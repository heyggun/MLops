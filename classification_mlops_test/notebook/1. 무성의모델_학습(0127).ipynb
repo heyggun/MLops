{
 "cells": [
  {
   "cell_type": "code",
   "execution_count": 1,
   "id": "6a1633a5",
   "metadata": {},
   "outputs": [],
   "source": [
    "import pandas as pd\n",
    "import numpy as np\n",
    "import warnings\n",
    "warnings.filterwarnings('ignore')"
   ]
  },
  {
   "cell_type": "code",
   "execution_count": 2,
   "id": "2f082f02",
   "metadata": {},
   "outputs": [],
   "source": [
    "import torch\n",
    "from transformers import AutoTokenizer, AutoModelForSequenceClassification, TrainingArguments, Trainer"
   ]
  },
  {
   "cell_type": "code",
   "execution_count": 25,
   "id": "42addddf",
   "metadata": {},
   "outputs": [
    {
     "name": "stdout",
     "output_type": "stream",
     "text": [
      "Device for Train : cpu\n"
     ]
    }
   ],
   "source": [
    "device = torch.device('cuda:0' if torch.cuda.is_available() else 'cpu')\n",
    "device = torch.device(\"cpu\")\n",
    "print(f\"Device for Train : {device}\")"
   ]
  },
  {
   "cell_type": "code",
   "execution_count": 4,
   "id": "88224fed",
   "metadata": {},
   "outputs": [],
   "source": [
    "import os"
   ]
  },
  {
   "cell_type": "code",
   "execution_count": 5,
   "id": "a505e044",
   "metadata": {},
   "outputs": [
    {
     "data": {
      "text/plain": [
       "['.cache',\n",
       " '.jupyter',\n",
       " '.bashrc',\n",
       " '.conda',\n",
       " '.local',\n",
       " '.ipython',\n",
       " '.config',\n",
       " '.ipynb_checkpoints',\n",
       " 'conts_elec_start.py',\n",
       " 'predict.py',\n",
       " 'preprocessing.py',\n",
       " 'conts_elec_main.py',\n",
       " '2. 연락처모델_학습(0130).ipynb',\n",
       " '1. 무성의모델_학습(0127).ipynb',\n",
       " 'utils',\n",
       " '.nv',\n",
       " 'elec',\n",
       " '무성의모델학습데이터(0127).csv']"
      ]
     },
     "execution_count": 5,
     "metadata": {},
     "output_type": "execute_result"
    }
   ],
   "source": [
    "os.listdir('./')"
   ]
  },
  {
   "cell_type": "code",
   "execution_count": 7,
   "id": "77f78444",
   "metadata": {},
   "outputs": [
    {
     "data": {
      "text/html": [
       "<div>\n",
       "<style scoped>\n",
       "    .dataframe tbody tr th:only-of-type {\n",
       "        vertical-align: middle;\n",
       "    }\n",
       "\n",
       "    .dataframe tbody tr th {\n",
       "        vertical-align: top;\n",
       "    }\n",
       "\n",
       "    .dataframe thead th {\n",
       "        text-align: right;\n",
       "    }\n",
       "</style>\n",
       "<table border=\"1\" class=\"dataframe\">\n",
       "  <thead>\n",
       "    <tr style=\"text-align: right;\">\n",
       "      <th></th>\n",
       "      <th>conts</th>\n",
       "      <th>label</th>\n",
       "    </tr>\n",
       "  </thead>\n",
       "  <tbody>\n",
       "    <tr>\n",
       "      <th>0</th>\n",
       "      <td>자기소개요??? 딱히 할 말이 없는데요 잘 모르겠어요 음음 ㅋㅋ</td>\n",
       "      <td>0</td>\n",
       "    </tr>\n",
       "    <tr>\n",
       "      <th>1</th>\n",
       "      <td>하하라라한사라라라라라안녕하세요? 좋은하루되세요 전 가요오옹##</td>\n",
       "      <td>0</td>\n",
       "    </tr>\n",
       "    <tr>\n",
       "      <th>2</th>\n",
       "      <td>인상좋음나는대학졸업후사진작갈활동하며수많은연예인을찍었다성실하고착한성품을지녰다</td>\n",
       "      <td>0</td>\n",
       "    </tr>\n",
       "    <tr>\n",
       "      <th>3</th>\n",
       "      <td>2남1녀중장남조묭한여자가좋음만나면즇은이미지로사길것임니다</td>\n",
       "      <td>0</td>\n",
       "    </tr>\n",
       "    <tr>\n",
       "      <th>4</th>\n",
       "      <td>다여님 아 그리고 이 책은 물론 이 모든 것을 다 같이 보내드립니다 수 있는 것입니...</td>\n",
       "      <td>0</td>\n",
       "    </tr>\n",
       "    <tr>\n",
       "      <th>...</th>\n",
       "      <td>...</td>\n",
       "      <td>...</td>\n",
       "    </tr>\n",
       "    <tr>\n",
       "      <th>63894</th>\n",
       "      <td>길을걷다바지주머니에손을넣고입에담배한개피를물고터보라이터를잡았을때정말우연히하늘아래나에게...</td>\n",
       "      <td>0</td>\n",
       "    </tr>\n",
       "    <tr>\n",
       "      <th>63895</th>\n",
       "      <td>부모님 하고 동생  있습니다!!!!!!!ㅣㅣㅣㅣㅣㅣㅣㅣㅣㅣㅣㅣㅣ</td>\n",
       "      <td>1</td>\n",
       "    </tr>\n",
       "    <tr>\n",
       "      <th>63896</th>\n",
       "      <td>Nhà tôi có 5 người bố mẹ chị gái em gái và tôi</td>\n",
       "      <td>0</td>\n",
       "    </tr>\n",
       "    <tr>\n",
       "      <th>63897</th>\n",
       "      <td>지금가족은제딸들뿐이고요친척들은연락안한지오래되어서연락도안될뿐드러친척이어디에어디서무엇을...</td>\n",
       "      <td>0</td>\n",
       "    </tr>\n",
       "    <tr>\n",
       "      <th>63898</th>\n",
       "      <td>이남일녀중둘째로태어나군에제대하고국내외여행업및전세버스운송사업하다가오년전에쫄닭망하고재기...</td>\n",
       "      <td>0</td>\n",
       "    </tr>\n",
       "  </tbody>\n",
       "</table>\n",
       "<p>63899 rows × 2 columns</p>\n",
       "</div>"
      ],
      "text/plain": [
       "                                                   conts  label\n",
       "0                    자기소개요??? 딱히 할 말이 없는데요 잘 모르겠어요 음음 ㅋㅋ      0\n",
       "1                     하하라라한사라라라라라안녕하세요? 좋은하루되세요 전 가요오옹##      0\n",
       "2              인상좋음나는대학졸업후사진작갈활동하며수많은연예인을찍었다성실하고착한성품을지녰다      0\n",
       "3                         2남1녀중장남조묭한여자가좋음만나면즇은이미지로사길것임니다      0\n",
       "4      다여님 아 그리고 이 책은 물론 이 모든 것을 다 같이 보내드립니다 수 있는 것입니...      0\n",
       "...                                                  ...    ...\n",
       "63894  길을걷다바지주머니에손을넣고입에담배한개피를물고터보라이터를잡았을때정말우연히하늘아래나에게...      0\n",
       "63895                부모님 하고 동생  있습니다!!!!!!!ㅣㅣㅣㅣㅣㅣㅣㅣㅣㅣㅣㅣㅣ      1\n",
       "63896     Nhà tôi có 5 người bố mẹ chị gái em gái và tôi      0\n",
       "63897  지금가족은제딸들뿐이고요친척들은연락안한지오래되어서연락도안될뿐드러친척이어디에어디서무엇을...      0\n",
       "63898  이남일녀중둘째로태어나군에제대하고국내외여행업및전세버스운송사업하다가오년전에쫄닭망하고재기...      0\n",
       "\n",
       "[63899 rows x 2 columns]"
      ]
     },
     "execution_count": 7,
     "metadata": {},
     "output_type": "execute_result"
    }
   ],
   "source": [
    "data = pd.read_csv('무성의모델학습데이터(0127).csv')\n",
    "data"
   ]
  },
  {
   "cell_type": "code",
   "execution_count": 8,
   "id": "5d316ea6",
   "metadata": {},
   "outputs": [],
   "source": [
    "mu_df = data.copy()"
   ]
  },
  {
   "cell_type": "code",
   "execution_count": 9,
   "id": "13567fec",
   "metadata": {},
   "outputs": [],
   "source": [
    "mu_df = mu_df.drop_duplicates()"
   ]
  },
  {
   "cell_type": "code",
   "execution_count": 10,
   "id": "cf4234f6",
   "metadata": {},
   "outputs": [
    {
     "data": {
      "text/plain": [
       "conts    0\n",
       "label    0\n",
       "dtype: int64"
      ]
     },
     "execution_count": 10,
     "metadata": {},
     "output_type": "execute_result"
    }
   ],
   "source": [
    "mu_df.isnull().sum()"
   ]
  },
  {
   "cell_type": "code",
   "execution_count": 11,
   "id": "55caa30f",
   "metadata": {},
   "outputs": [],
   "source": [
    "mu_df.reset_index(drop=True, inplace=True)"
   ]
  },
  {
   "cell_type": "code",
   "execution_count": 12,
   "id": "748b467a",
   "metadata": {},
   "outputs": [
    {
     "name": "stdout",
     "output_type": "stream",
     "text": [
      "(32841, 2) (30871, 2)\n"
     ]
    }
   ],
   "source": [
    "label_0 = mu_df.loc[mu_df['label']==0]\n",
    "label_1 = mu_df.loc[mu_df['label']==1]\n",
    "\n",
    "print(label_0.shape, label_1.shape)\n",
    "\n",
    "final_mu_df = pd.concat([label_0, label_1]).reset_index(drop=True)"
   ]
  },
  {
   "cell_type": "code",
   "execution_count": 13,
   "id": "f25dddde",
   "metadata": {},
   "outputs": [
    {
     "name": "stdout",
     "output_type": "stream",
     "text": [
      "(50970, 2) (12742, 2)\n"
     ]
    }
   ],
   "source": [
    "# 학습 데이터 : 검증 데이터 8:2\n",
    "\n",
    "train_data = final_mu_df.sample(frac=0.8, random_state=2022)[['conts','label']]\n",
    "test_data = final_mu_df.drop(train_data.index)[['conts','label']]\n",
    "\n",
    "print(train_data.shape, test_data.shape)"
   ]
  },
  {
   "cell_type": "code",
   "execution_count": 14,
   "id": "f482077b",
   "metadata": {},
   "outputs": [],
   "source": [
    "model_name = \"beomi/KcELECTRA-base-v2022\"\n",
    "tokenizer = AutoTokenizer.from_pretrained(model_name)"
   ]
  },
  {
   "cell_type": "code",
   "execution_count": 15,
   "id": "6991e947",
   "metadata": {
    "scrolled": true
   },
   "outputs": [
    {
     "name": "stdout",
     "output_type": "stream",
     "text": [
      "Encoding(num_tokens=128, attributes=[ids, type_ids, tokens, offsets, attention_mask, special_tokens_mask, overflowing])\n",
      "['[CLS]', 'ㅅ', '##ㅅ', '##듣', '##ㅎ', '##ㄴ', '##ㄷ', '##ㅈ', '##ㅎ', '##ㄴ', '##ㄷ', '##ㅎ', '##ㄴ', '##ㄷ', '##ㅈ', '##ㅎ', '##ㄷ', '##ㅈㅇ', '##ㅅ', '##ㄷ', '##ㅈ', '##ㅅ', '##ㄴ', '##ㅈ', '##ㅅ', '##ㄴ', '##ㅈ', '##ㅎ', '##ㄷ', '##ㅈㅇ', '##ㅅ', '##ㅈ', '[SEP]', '[PAD]', '[PAD]', '[PAD]', '[PAD]', '[PAD]', '[PAD]', '[PAD]', '[PAD]', '[PAD]', '[PAD]', '[PAD]', '[PAD]', '[PAD]', '[PAD]', '[PAD]', '[PAD]', '[PAD]', '[PAD]', '[PAD]', '[PAD]', '[PAD]', '[PAD]', '[PAD]', '[PAD]', '[PAD]', '[PAD]', '[PAD]', '[PAD]', '[PAD]', '[PAD]', '[PAD]', '[PAD]', '[PAD]', '[PAD]', '[PAD]', '[PAD]', '[PAD]', '[PAD]', '[PAD]', '[PAD]', '[PAD]', '[PAD]', '[PAD]', '[PAD]', '[PAD]', '[PAD]', '[PAD]', '[PAD]', '[PAD]', '[PAD]', '[PAD]', '[PAD]', '[PAD]', '[PAD]', '[PAD]', '[PAD]', '[PAD]', '[PAD]', '[PAD]', '[PAD]', '[PAD]', '[PAD]', '[PAD]', '[PAD]', '[PAD]', '[PAD]', '[PAD]', '[PAD]', '[PAD]', '[PAD]', '[PAD]', '[PAD]', '[PAD]', '[PAD]', '[PAD]', '[PAD]', '[PAD]', '[PAD]', '[PAD]', '[PAD]', '[PAD]', '[PAD]', '[PAD]', '[PAD]', '[PAD]', '[PAD]', '[PAD]', '[PAD]', '[PAD]', '[PAD]', '[PAD]', '[PAD]', '[PAD]', '[PAD]', '[PAD]']\n",
      "[2, 362, 4361, 4458, 4407, 4700, 4322, 4406, 4407, 4700, 4322, 4407, 4700, 4322, 4406, 4407, 4322, 31362, 4361, 4322, 4406, 4361, 4700, 4406, 4361, 4700, 4406, 4407, 4322, 31362, 4361, 4406, 3, 0, 0, 0, 0, 0, 0, 0, 0, 0, 0, 0, 0, 0, 0, 0, 0, 0, 0, 0, 0, 0, 0, 0, 0, 0, 0, 0, 0, 0, 0, 0, 0, 0, 0, 0, 0, 0, 0, 0, 0, 0, 0, 0, 0, 0, 0, 0, 0, 0, 0, 0, 0, 0, 0, 0, 0, 0, 0, 0, 0, 0, 0, 0, 0, 0, 0, 0, 0, 0, 0, 0, 0, 0, 0, 0, 0, 0, 0, 0, 0, 0, 0, 0, 0, 0, 0, 0, 0, 0, 0, 0, 0, 0, 0, 0]\n",
      "[1, 1, 1, 1, 1, 1, 1, 1, 1, 1, 1, 1, 1, 1, 1, 1, 1, 1, 1, 1, 1, 1, 1, 1, 1, 1, 1, 1, 1, 1, 1, 1, 1, 0, 0, 0, 0, 0, 0, 0, 0, 0, 0, 0, 0, 0, 0, 0, 0, 0, 0, 0, 0, 0, 0, 0, 0, 0, 0, 0, 0, 0, 0, 0, 0, 0, 0, 0, 0, 0, 0, 0, 0, 0, 0, 0, 0, 0, 0, 0, 0, 0, 0, 0, 0, 0, 0, 0, 0, 0, 0, 0, 0, 0, 0, 0, 0, 0, 0, 0, 0, 0, 0, 0, 0, 0, 0, 0, 0, 0, 0, 0, 0, 0, 0, 0, 0, 0, 0, 0, 0, 0, 0, 0, 0, 0, 0, 0]\n"
     ]
    }
   ],
   "source": [
    "# train dataset 토크나이징\n",
    "tokenized_train_sentence = tokenizer(\n",
    "    list(train_data['conts']),\n",
    "    max_length=128,\n",
    "    return_tensors='pt',  #pyotorch의 tensor 형태로 return\n",
    "    padding=True,        #제로패딩 설정\n",
    "    truncation=True,     # max_length 초과 토큰 truncate\n",
    "    add_special_tokens=True)  # special token 추가\n",
    "\n",
    "\n",
    "print(tokenized_train_sentence[0])\n",
    "print(tokenized_train_sentence[0].tokens)\n",
    "print(tokenized_train_sentence[0].ids)\n",
    "print(tokenized_train_sentence[0].attention_mask)"
   ]
  },
  {
   "cell_type": "code",
   "execution_count": 16,
   "id": "00fa919c",
   "metadata": {},
   "outputs": [],
   "source": [
    "# test dataset 토크나이징\n",
    "tokenized_test_sentence = tokenizer(\n",
    "    list(test_data['conts']),\n",
    "    max_length=128,\n",
    "    return_tensors='pt',\n",
    "    padding=True,\n",
    "    truncation=True,\n",
    "    add_special_tokens=True)"
   ]
  },
  {
   "cell_type": "code",
   "execution_count": 17,
   "id": "8f05898c",
   "metadata": {},
   "outputs": [
    {
     "name": "stdout",
     "output_type": "stream",
     "text": [
      "Encoding(num_tokens=128, attributes=[ids, type_ids, tokens, offsets, attention_mask, special_tokens_mask, overflowing])\n",
      "['[CLS]', '자기', '##소개', '##요', '?', '?', '?', '딱히', '할', '말이', '없는데', '##요', '잘', '모르겠', '##어요', '음음', 'ㅋㅋ', '[SEP]', '[PAD]', '[PAD]', '[PAD]', '[PAD]', '[PAD]', '[PAD]', '[PAD]', '[PAD]', '[PAD]', '[PAD]', '[PAD]', '[PAD]', '[PAD]', '[PAD]', '[PAD]', '[PAD]', '[PAD]', '[PAD]', '[PAD]', '[PAD]', '[PAD]', '[PAD]', '[PAD]', '[PAD]', '[PAD]', '[PAD]', '[PAD]', '[PAD]', '[PAD]', '[PAD]', '[PAD]', '[PAD]', '[PAD]', '[PAD]', '[PAD]', '[PAD]', '[PAD]', '[PAD]', '[PAD]', '[PAD]', '[PAD]', '[PAD]', '[PAD]', '[PAD]', '[PAD]', '[PAD]', '[PAD]', '[PAD]', '[PAD]', '[PAD]', '[PAD]', '[PAD]', '[PAD]', '[PAD]', '[PAD]', '[PAD]', '[PAD]', '[PAD]', '[PAD]', '[PAD]', '[PAD]', '[PAD]', '[PAD]', '[PAD]', '[PAD]', '[PAD]', '[PAD]', '[PAD]', '[PAD]', '[PAD]', '[PAD]', '[PAD]', '[PAD]', '[PAD]', '[PAD]', '[PAD]', '[PAD]', '[PAD]', '[PAD]', '[PAD]', '[PAD]', '[PAD]', '[PAD]', '[PAD]', '[PAD]', '[PAD]', '[PAD]', '[PAD]', '[PAD]', '[PAD]', '[PAD]', '[PAD]', '[PAD]', '[PAD]', '[PAD]', '[PAD]', '[PAD]', '[PAD]', '[PAD]', '[PAD]', '[PAD]', '[PAD]', '[PAD]', '[PAD]', '[PAD]', '[PAD]', '[PAD]', '[PAD]', '[PAD]', '[PAD]']\n",
      "[2, 8054, 33372, 4134, 33, 33, 33, 19173, 3459, 8235, 9001, 4134, 2729, 12159, 8136, 43444, 7974, 3, 0, 0, 0, 0, 0, 0, 0, 0, 0, 0, 0, 0, 0, 0, 0, 0, 0, 0, 0, 0, 0, 0, 0, 0, 0, 0, 0, 0, 0, 0, 0, 0, 0, 0, 0, 0, 0, 0, 0, 0, 0, 0, 0, 0, 0, 0, 0, 0, 0, 0, 0, 0, 0, 0, 0, 0, 0, 0, 0, 0, 0, 0, 0, 0, 0, 0, 0, 0, 0, 0, 0, 0, 0, 0, 0, 0, 0, 0, 0, 0, 0, 0, 0, 0, 0, 0, 0, 0, 0, 0, 0, 0, 0, 0, 0, 0, 0, 0, 0, 0, 0, 0, 0, 0, 0, 0, 0, 0, 0, 0]\n",
      "[1, 1, 1, 1, 1, 1, 1, 1, 1, 1, 1, 1, 1, 1, 1, 1, 1, 1, 0, 0, 0, 0, 0, 0, 0, 0, 0, 0, 0, 0, 0, 0, 0, 0, 0, 0, 0, 0, 0, 0, 0, 0, 0, 0, 0, 0, 0, 0, 0, 0, 0, 0, 0, 0, 0, 0, 0, 0, 0, 0, 0, 0, 0, 0, 0, 0, 0, 0, 0, 0, 0, 0, 0, 0, 0, 0, 0, 0, 0, 0, 0, 0, 0, 0, 0, 0, 0, 0, 0, 0, 0, 0, 0, 0, 0, 0, 0, 0, 0, 0, 0, 0, 0, 0, 0, 0, 0, 0, 0, 0, 0, 0, 0, 0, 0, 0, 0, 0, 0, 0, 0, 0, 0, 0, 0, 0, 0, 0]\n"
     ]
    }
   ],
   "source": [
    "print(tokenized_test_sentence[0])\n",
    "print(tokenized_test_sentence[0].tokens)\n",
    "print(tokenized_test_sentence[0].ids)\n",
    "print(tokenized_test_sentence[0].attention_mask)"
   ]
  },
  {
   "cell_type": "code",
   "execution_count": 22,
   "id": "ea6127da",
   "metadata": {},
   "outputs": [],
   "source": [
    "class CustomDataset(torch.utils.data.Dataset) :\n",
    "    def __init__(self, encodings, labels) :\n",
    "        self.encodings = encodings\n",
    "        print(self.encodings)\n",
    "        self.labels = labels\n",
    "        \n",
    "    def __len__(self) :\n",
    "        return len(self.labels)    \n",
    "        \n",
    "    def __getitem__(self, idx) :\n",
    "        item = {key : torch.tensor(val[idx]) for key, val in self.encodings.items()}\n",
    "        item['labels'] = torch.tensor(self.labels[idx])\n",
    "        return item"
   ]
  },
  {
   "cell_type": "code",
   "execution_count": 23,
   "id": "65b091da",
   "metadata": {},
   "outputs": [
    {
     "name": "stdout",
     "output_type": "stream",
     "text": [
      "{'input_ids': tensor([[    2,   362,  4361,  ...,     0,     0,     0],\n",
      "        [    2,  8969,  9661,  ...,     0,     0,     0],\n",
      "        [    2,    71,  4545,  ...,     0,     0,     0],\n",
      "        ...,\n",
      "        [    2,  8213,  8679,  ...,     0,     0,     0],\n",
      "        [    2,     1,     3,  ...,     0,     0,     0],\n",
      "        [    2, 26907, 13529,  ...,     0,     0,     0]]), 'token_type_ids': tensor([[0, 0, 0,  ..., 0, 0, 0],\n",
      "        [0, 0, 0,  ..., 0, 0, 0],\n",
      "        [0, 0, 0,  ..., 0, 0, 0],\n",
      "        ...,\n",
      "        [0, 0, 0,  ..., 0, 0, 0],\n",
      "        [0, 0, 0,  ..., 0, 0, 0],\n",
      "        [0, 0, 0,  ..., 0, 0, 0]]), 'attention_mask': tensor([[1, 1, 1,  ..., 0, 0, 0],\n",
      "        [1, 1, 1,  ..., 0, 0, 0],\n",
      "        [1, 1, 1,  ..., 0, 0, 0],\n",
      "        ...,\n",
      "        [1, 1, 1,  ..., 0, 0, 0],\n",
      "        [1, 1, 1,  ..., 0, 0, 0],\n",
      "        [1, 1, 1,  ..., 0, 0, 0]])}\n",
      "{'input_ids': tensor([[    2,  8054, 33372,  ...,     0,     0,     0],\n",
      "        [    2,    25, 47027,  ...,     0,     0,     0],\n",
      "        [    2,     1,     3,  ...,     0,     0,     0],\n",
      "        ...,\n",
      "        [    2,    64,    64,  ...,     0,     0,     0],\n",
      "        [    2,    18,    18,  ...,     0,     0,     0],\n",
      "        [    2, 39005,  8009,  ...,     0,     0,     0]]), 'token_type_ids': tensor([[0, 0, 0,  ..., 0, 0, 0],\n",
      "        [0, 0, 0,  ..., 0, 0, 0],\n",
      "        [0, 0, 0,  ..., 0, 0, 0],\n",
      "        ...,\n",
      "        [0, 0, 0,  ..., 0, 0, 0],\n",
      "        [0, 0, 0,  ..., 0, 0, 0],\n",
      "        [0, 0, 0,  ..., 0, 0, 0]]), 'attention_mask': tensor([[1, 1, 1,  ..., 0, 0, 0],\n",
      "        [1, 1, 1,  ..., 0, 0, 0],\n",
      "        [1, 1, 1,  ..., 0, 0, 0],\n",
      "        ...,\n",
      "        [1, 1, 1,  ..., 0, 0, 0],\n",
      "        [1, 1, 1,  ..., 0, 0, 0],\n",
      "        [1, 1, 1,  ..., 0, 0, 0]])}\n"
     ]
    }
   ],
   "source": [
    "# dataset 형성(텐서로 변환)\n",
    "train_label = train_data['label'].values\n",
    "test_label = test_data['label'].values\n",
    "\n",
    "train_dataset = CustomDataset(tokenized_train_sentence, train_label)\n",
    "test_dataset = CustomDataset(tokenized_test_sentence, test_label)"
   ]
  },
  {
   "cell_type": "code",
   "execution_count": 26,
   "id": "297bbf91",
   "metadata": {
    "scrolled": true
   },
   "outputs": [
    {
     "name": "stderr",
     "output_type": "stream",
     "text": [
      "Some weights of the model checkpoint at beomi/KcELECTRA-base-v2022 were not used when initializing ElectraForSequenceClassification: ['discriminator_predictions.dense_prediction.bias', 'discriminator_predictions.dense.bias', 'discriminator_predictions.dense.weight', 'discriminator_predictions.dense_prediction.weight']\n",
      "- This IS expected if you are initializing ElectraForSequenceClassification from the checkpoint of a model trained on another task or with another architecture (e.g. initializing a BertForSequenceClassification model from a BertForPreTraining model).\n",
      "- This IS NOT expected if you are initializing ElectraForSequenceClassification from the checkpoint of a model that you expect to be exactly identical (initializing a BertForSequenceClassification model from a BertForSequenceClassification model).\n",
      "Some weights of ElectraForSequenceClassification were not initialized from the model checkpoint at beomi/KcELECTRA-base-v2022 and are newly initialized: ['classifier.dense.weight', 'classifier.out_proj.weight', 'classifier.dense.bias', 'classifier.out_proj.bias']\n",
      "You should probably TRAIN this model on a down-stream task to be able to use it for predictions and inference.\n"
     ]
    },
    {
     "data": {
      "text/plain": [
       "ElectraForSequenceClassification(\n",
       "  (electra): ElectraModel(\n",
       "    (embeddings): ElectraEmbeddings(\n",
       "      (word_embeddings): Embedding(54343, 768, padding_idx=0)\n",
       "      (position_embeddings): Embedding(512, 768)\n",
       "      (token_type_embeddings): Embedding(2, 768)\n",
       "      (LayerNorm): LayerNorm((768,), eps=1e-12, elementwise_affine=True)\n",
       "      (dropout): Dropout(p=0.1, inplace=False)\n",
       "    )\n",
       "    (encoder): ElectraEncoder(\n",
       "      (layer): ModuleList(\n",
       "        (0-11): 12 x ElectraLayer(\n",
       "          (attention): ElectraAttention(\n",
       "            (self): ElectraSelfAttention(\n",
       "              (query): Linear(in_features=768, out_features=768, bias=True)\n",
       "              (key): Linear(in_features=768, out_features=768, bias=True)\n",
       "              (value): Linear(in_features=768, out_features=768, bias=True)\n",
       "              (dropout): Dropout(p=0.1, inplace=False)\n",
       "            )\n",
       "            (output): ElectraSelfOutput(\n",
       "              (dense): Linear(in_features=768, out_features=768, bias=True)\n",
       "              (LayerNorm): LayerNorm((768,), eps=1e-12, elementwise_affine=True)\n",
       "              (dropout): Dropout(p=0.1, inplace=False)\n",
       "            )\n",
       "          )\n",
       "          (intermediate): ElectraIntermediate(\n",
       "            (dense): Linear(in_features=768, out_features=3072, bias=True)\n",
       "            (intermediate_act_fn): GELUActivation()\n",
       "          )\n",
       "          (output): ElectraOutput(\n",
       "            (dense): Linear(in_features=3072, out_features=768, bias=True)\n",
       "            (LayerNorm): LayerNorm((768,), eps=1e-12, elementwise_affine=True)\n",
       "            (dropout): Dropout(p=0.1, inplace=False)\n",
       "          )\n",
       "        )\n",
       "      )\n",
       "    )\n",
       "  )\n",
       "  (classifier): ElectraClassificationHead(\n",
       "    (dense): Linear(in_features=768, out_features=768, bias=True)\n",
       "    (dropout): Dropout(p=0.1, inplace=False)\n",
       "    (out_proj): Linear(in_features=768, out_features=2, bias=True)\n",
       "  )\n",
       ")"
      ]
     },
     "execution_count": 26,
     "metadata": {},
     "output_type": "execute_result"
    }
   ],
   "source": [
    "# 사전학습 모델 로드\n",
    "model = AutoModelForSequenceClassification.from_pretrained(model_name, num_labels=2)\n",
    "model.to(device)"
   ]
  },
  {
   "cell_type": "code",
   "execution_count": 31,
   "id": "07fca0e8",
   "metadata": {},
   "outputs": [],
   "source": [
    "# train option setting\n",
    "train_arguments = TrainingArguments(\n",
    "                    output_dir='./',\n",
    "                    num_train_epochs=5,\n",
    "                    per_device_train_batch_size=64,\n",
    "                    per_device_eval_batch_size=64,\n",
    "                    logging_dir='./logs',\n",
    "                    no_cuda=True,\n",
    "                    logging_steps=500,\n",
    "                    save_total_limit=2)"
   ]
  },
  {
   "cell_type": "code",
   "execution_count": 32,
   "id": "487b4965",
   "metadata": {},
   "outputs": [],
   "source": [
    "# metrics\n",
    "from sklearn.metrics import precision_recall_fscore_support, accuracy_score, precision_score, recall_score\n",
    "\n",
    "\n",
    "def compute_metrics(pred) :\n",
    "    labels = pred.label_ids\n",
    "    preds = pred.predictions.argmax(-1)\n",
    "    \n",
    "    precision = precision_score(labels, preds) \n",
    "    recall = recall_score(labels, preds)\n",
    "    f1 = precision_recall_fscore_support(labels, preds, average='binary')\n",
    "    acc = accuracy_score(labels, preds)\n",
    "    \n",
    "    return {\n",
    "        'accuracy' : acc,\n",
    "        'f1' : f1,\n",
    "        'precision' : precision,\n",
    "        'recall' : recall\n",
    "    }"
   ]
  },
  {
   "cell_type": "code",
   "execution_count": 29,
   "id": "43c6ad9b",
   "metadata": {
    "scrolled": true
   },
   "outputs": [
    {
     "ename": "OutOfMemoryError",
     "evalue": "CUDA out of memory. Tried to allocate 160.00 MiB (GPU 0; 3.82 GiB total capacity; 180.05 MiB already allocated; 18.12 MiB free; 182.00 MiB reserved in total by PyTorch) If reserved memory is >> allocated memory try setting max_split_size_mb to avoid fragmentation.  See documentation for Memory Management and PYTORCH_CUDA_ALLOC_CONF",
     "output_type": "error",
     "traceback": [
      "\u001b[0;31m---------------------------------------------------------------------------\u001b[0m",
      "\u001b[0;31mOutOfMemoryError\u001b[0m                          Traceback (most recent call last)",
      "File \u001b[0;32m<timed exec>:2\u001b[0m\n",
      "File \u001b[0;32m/opt/conda/lib/python3.10/site-packages/transformers/trainer.py:511\u001b[0m, in \u001b[0;36mTrainer.__init__\u001b[0;34m(self, model, args, data_collator, train_dataset, eval_dataset, tokenizer, model_init, compute_metrics, callbacks, optimizers, preprocess_logits_for_metrics)\u001b[0m\n\u001b[1;32m    508\u001b[0m \u001b[38;5;28mself\u001b[39m\u001b[38;5;241m.\u001b[39mtokenizer \u001b[38;5;241m=\u001b[39m tokenizer\n\u001b[1;32m    510\u001b[0m \u001b[38;5;28;01mif\u001b[39;00m \u001b[38;5;28mself\u001b[39m\u001b[38;5;241m.\u001b[39mplace_model_on_device \u001b[38;5;129;01mand\u001b[39;00m \u001b[38;5;129;01mnot\u001b[39;00m \u001b[38;5;28mgetattr\u001b[39m(model, \u001b[38;5;124m\"\u001b[39m\u001b[38;5;124mis_loaded_in_8bit\u001b[39m\u001b[38;5;124m\"\u001b[39m, \u001b[38;5;28;01mFalse\u001b[39;00m):\n\u001b[0;32m--> 511\u001b[0m     \u001b[38;5;28;43mself\u001b[39;49m\u001b[38;5;241;43m.\u001b[39;49m\u001b[43m_move_model_to_device\u001b[49m\u001b[43m(\u001b[49m\u001b[43mmodel\u001b[49m\u001b[43m,\u001b[49m\u001b[43m \u001b[49m\u001b[43margs\u001b[49m\u001b[38;5;241;43m.\u001b[39;49m\u001b[43mdevice\u001b[49m\u001b[43m)\u001b[49m\n\u001b[1;32m    513\u001b[0m \u001b[38;5;66;03m# Force n_gpu to 1 to avoid DataParallel as MP will manage the GPUs\u001b[39;00m\n\u001b[1;32m    514\u001b[0m \u001b[38;5;28;01mif\u001b[39;00m \u001b[38;5;28mself\u001b[39m\u001b[38;5;241m.\u001b[39mis_model_parallel:\n",
      "File \u001b[0;32m/opt/conda/lib/python3.10/site-packages/transformers/trainer.py:754\u001b[0m, in \u001b[0;36mTrainer._move_model_to_device\u001b[0;34m(self, model, device)\u001b[0m\n\u001b[1;32m    753\u001b[0m \u001b[38;5;28;01mdef\u001b[39;00m \u001b[38;5;21m_move_model_to_device\u001b[39m(\u001b[38;5;28mself\u001b[39m, model, device):\n\u001b[0;32m--> 754\u001b[0m     model \u001b[38;5;241m=\u001b[39m \u001b[43mmodel\u001b[49m\u001b[38;5;241;43m.\u001b[39;49m\u001b[43mto\u001b[49m\u001b[43m(\u001b[49m\u001b[43mdevice\u001b[49m\u001b[43m)\u001b[49m\n\u001b[1;32m    755\u001b[0m     \u001b[38;5;66;03m# Moving a model to an XLA device disconnects the tied weights, so we have to retie them.\u001b[39;00m\n\u001b[1;32m    756\u001b[0m     \u001b[38;5;28;01mif\u001b[39;00m \u001b[38;5;28mself\u001b[39m\u001b[38;5;241m.\u001b[39margs\u001b[38;5;241m.\u001b[39mparallel_mode \u001b[38;5;241m==\u001b[39m ParallelMode\u001b[38;5;241m.\u001b[39mTPU \u001b[38;5;129;01mand\u001b[39;00m \u001b[38;5;28mhasattr\u001b[39m(model, \u001b[38;5;124m\"\u001b[39m\u001b[38;5;124mtie_weights\u001b[39m\u001b[38;5;124m\"\u001b[39m):\n",
      "File \u001b[0;32m/opt/conda/lib/python3.10/site-packages/transformers/modeling_utils.py:1902\u001b[0m, in \u001b[0;36mPreTrainedModel.to\u001b[0;34m(self, *args, **kwargs)\u001b[0m\n\u001b[1;32m   1897\u001b[0m     \u001b[38;5;28;01mraise\u001b[39;00m \u001b[38;5;167;01mValueError\u001b[39;00m(\n\u001b[1;32m   1898\u001b[0m         \u001b[38;5;124m\"\u001b[39m\u001b[38;5;124m`.to` is not supported for `4-bit` or `8-bit` models. Please use the model as it is, since the\u001b[39m\u001b[38;5;124m\"\u001b[39m\n\u001b[1;32m   1899\u001b[0m         \u001b[38;5;124m\"\u001b[39m\u001b[38;5;124m model has already been set to the correct devices and casted to the correct `dtype`.\u001b[39m\u001b[38;5;124m\"\u001b[39m\n\u001b[1;32m   1900\u001b[0m     )\n\u001b[1;32m   1901\u001b[0m \u001b[38;5;28;01melse\u001b[39;00m:\n\u001b[0;32m-> 1902\u001b[0m     \u001b[38;5;28;01mreturn\u001b[39;00m \u001b[38;5;28;43msuper\u001b[39;49m\u001b[43m(\u001b[49m\u001b[43m)\u001b[49m\u001b[38;5;241;43m.\u001b[39;49m\u001b[43mto\u001b[49m\u001b[43m(\u001b[49m\u001b[38;5;241;43m*\u001b[39;49m\u001b[43margs\u001b[49m\u001b[43m,\u001b[49m\u001b[43m \u001b[49m\u001b[38;5;241;43m*\u001b[39;49m\u001b[38;5;241;43m*\u001b[39;49m\u001b[43mkwargs\u001b[49m\u001b[43m)\u001b[49m\n",
      "File \u001b[0;32m/opt/conda/lib/python3.10/site-packages/torch/nn/modules/module.py:1145\u001b[0m, in \u001b[0;36mModule.to\u001b[0;34m(self, *args, **kwargs)\u001b[0m\n\u001b[1;32m   1141\u001b[0m         \u001b[38;5;28;01mreturn\u001b[39;00m t\u001b[38;5;241m.\u001b[39mto(device, dtype \u001b[38;5;28;01mif\u001b[39;00m t\u001b[38;5;241m.\u001b[39mis_floating_point() \u001b[38;5;129;01mor\u001b[39;00m t\u001b[38;5;241m.\u001b[39mis_complex() \u001b[38;5;28;01melse\u001b[39;00m \u001b[38;5;28;01mNone\u001b[39;00m,\n\u001b[1;32m   1142\u001b[0m                     non_blocking, memory_format\u001b[38;5;241m=\u001b[39mconvert_to_format)\n\u001b[1;32m   1143\u001b[0m     \u001b[38;5;28;01mreturn\u001b[39;00m t\u001b[38;5;241m.\u001b[39mto(device, dtype \u001b[38;5;28;01mif\u001b[39;00m t\u001b[38;5;241m.\u001b[39mis_floating_point() \u001b[38;5;129;01mor\u001b[39;00m t\u001b[38;5;241m.\u001b[39mis_complex() \u001b[38;5;28;01melse\u001b[39;00m \u001b[38;5;28;01mNone\u001b[39;00m, non_blocking)\n\u001b[0;32m-> 1145\u001b[0m \u001b[38;5;28;01mreturn\u001b[39;00m \u001b[38;5;28;43mself\u001b[39;49m\u001b[38;5;241;43m.\u001b[39;49m\u001b[43m_apply\u001b[49m\u001b[43m(\u001b[49m\u001b[43mconvert\u001b[49m\u001b[43m)\u001b[49m\n",
      "File \u001b[0;32m/opt/conda/lib/python3.10/site-packages/torch/nn/modules/module.py:797\u001b[0m, in \u001b[0;36mModule._apply\u001b[0;34m(self, fn)\u001b[0m\n\u001b[1;32m    795\u001b[0m \u001b[38;5;28;01mdef\u001b[39;00m \u001b[38;5;21m_apply\u001b[39m(\u001b[38;5;28mself\u001b[39m, fn):\n\u001b[1;32m    796\u001b[0m     \u001b[38;5;28;01mfor\u001b[39;00m module \u001b[38;5;129;01min\u001b[39;00m \u001b[38;5;28mself\u001b[39m\u001b[38;5;241m.\u001b[39mchildren():\n\u001b[0;32m--> 797\u001b[0m         \u001b[43mmodule\u001b[49m\u001b[38;5;241;43m.\u001b[39;49m\u001b[43m_apply\u001b[49m\u001b[43m(\u001b[49m\u001b[43mfn\u001b[49m\u001b[43m)\u001b[49m\n\u001b[1;32m    799\u001b[0m     \u001b[38;5;28;01mdef\u001b[39;00m \u001b[38;5;21mcompute_should_use_set_data\u001b[39m(tensor, tensor_applied):\n\u001b[1;32m    800\u001b[0m         \u001b[38;5;28;01mif\u001b[39;00m torch\u001b[38;5;241m.\u001b[39m_has_compatible_shallow_copy_type(tensor, tensor_applied):\n\u001b[1;32m    801\u001b[0m             \u001b[38;5;66;03m# If the new tensor has compatible tensor type as the existing tensor,\u001b[39;00m\n\u001b[1;32m    802\u001b[0m             \u001b[38;5;66;03m# the current behavior is to change the tensor in-place using `.data =`,\u001b[39;00m\n\u001b[0;32m   (...)\u001b[0m\n\u001b[1;32m    807\u001b[0m             \u001b[38;5;66;03m# global flag to let the user control whether they want the future\u001b[39;00m\n\u001b[1;32m    808\u001b[0m             \u001b[38;5;66;03m# behavior of overwriting the existing tensor or not.\u001b[39;00m\n",
      "File \u001b[0;32m/opt/conda/lib/python3.10/site-packages/torch/nn/modules/module.py:797\u001b[0m, in \u001b[0;36mModule._apply\u001b[0;34m(self, fn)\u001b[0m\n\u001b[1;32m    795\u001b[0m \u001b[38;5;28;01mdef\u001b[39;00m \u001b[38;5;21m_apply\u001b[39m(\u001b[38;5;28mself\u001b[39m, fn):\n\u001b[1;32m    796\u001b[0m     \u001b[38;5;28;01mfor\u001b[39;00m module \u001b[38;5;129;01min\u001b[39;00m \u001b[38;5;28mself\u001b[39m\u001b[38;5;241m.\u001b[39mchildren():\n\u001b[0;32m--> 797\u001b[0m         \u001b[43mmodule\u001b[49m\u001b[38;5;241;43m.\u001b[39;49m\u001b[43m_apply\u001b[49m\u001b[43m(\u001b[49m\u001b[43mfn\u001b[49m\u001b[43m)\u001b[49m\n\u001b[1;32m    799\u001b[0m     \u001b[38;5;28;01mdef\u001b[39;00m \u001b[38;5;21mcompute_should_use_set_data\u001b[39m(tensor, tensor_applied):\n\u001b[1;32m    800\u001b[0m         \u001b[38;5;28;01mif\u001b[39;00m torch\u001b[38;5;241m.\u001b[39m_has_compatible_shallow_copy_type(tensor, tensor_applied):\n\u001b[1;32m    801\u001b[0m             \u001b[38;5;66;03m# If the new tensor has compatible tensor type as the existing tensor,\u001b[39;00m\n\u001b[1;32m    802\u001b[0m             \u001b[38;5;66;03m# the current behavior is to change the tensor in-place using `.data =`,\u001b[39;00m\n\u001b[0;32m   (...)\u001b[0m\n\u001b[1;32m    807\u001b[0m             \u001b[38;5;66;03m# global flag to let the user control whether they want the future\u001b[39;00m\n\u001b[1;32m    808\u001b[0m             \u001b[38;5;66;03m# behavior of overwriting the existing tensor or not.\u001b[39;00m\n",
      "File \u001b[0;32m/opt/conda/lib/python3.10/site-packages/torch/nn/modules/module.py:797\u001b[0m, in \u001b[0;36mModule._apply\u001b[0;34m(self, fn)\u001b[0m\n\u001b[1;32m    795\u001b[0m \u001b[38;5;28;01mdef\u001b[39;00m \u001b[38;5;21m_apply\u001b[39m(\u001b[38;5;28mself\u001b[39m, fn):\n\u001b[1;32m    796\u001b[0m     \u001b[38;5;28;01mfor\u001b[39;00m module \u001b[38;5;129;01min\u001b[39;00m \u001b[38;5;28mself\u001b[39m\u001b[38;5;241m.\u001b[39mchildren():\n\u001b[0;32m--> 797\u001b[0m         \u001b[43mmodule\u001b[49m\u001b[38;5;241;43m.\u001b[39;49m\u001b[43m_apply\u001b[49m\u001b[43m(\u001b[49m\u001b[43mfn\u001b[49m\u001b[43m)\u001b[49m\n\u001b[1;32m    799\u001b[0m     \u001b[38;5;28;01mdef\u001b[39;00m \u001b[38;5;21mcompute_should_use_set_data\u001b[39m(tensor, tensor_applied):\n\u001b[1;32m    800\u001b[0m         \u001b[38;5;28;01mif\u001b[39;00m torch\u001b[38;5;241m.\u001b[39m_has_compatible_shallow_copy_type(tensor, tensor_applied):\n\u001b[1;32m    801\u001b[0m             \u001b[38;5;66;03m# If the new tensor has compatible tensor type as the existing tensor,\u001b[39;00m\n\u001b[1;32m    802\u001b[0m             \u001b[38;5;66;03m# the current behavior is to change the tensor in-place using `.data =`,\u001b[39;00m\n\u001b[0;32m   (...)\u001b[0m\n\u001b[1;32m    807\u001b[0m             \u001b[38;5;66;03m# global flag to let the user control whether they want the future\u001b[39;00m\n\u001b[1;32m    808\u001b[0m             \u001b[38;5;66;03m# behavior of overwriting the existing tensor or not.\u001b[39;00m\n",
      "File \u001b[0;32m/opt/conda/lib/python3.10/site-packages/torch/nn/modules/module.py:820\u001b[0m, in \u001b[0;36mModule._apply\u001b[0;34m(self, fn)\u001b[0m\n\u001b[1;32m    816\u001b[0m \u001b[38;5;66;03m# Tensors stored in modules are graph leaves, and we don't want to\u001b[39;00m\n\u001b[1;32m    817\u001b[0m \u001b[38;5;66;03m# track autograd history of `param_applied`, so we have to use\u001b[39;00m\n\u001b[1;32m    818\u001b[0m \u001b[38;5;66;03m# `with torch.no_grad():`\u001b[39;00m\n\u001b[1;32m    819\u001b[0m \u001b[38;5;28;01mwith\u001b[39;00m torch\u001b[38;5;241m.\u001b[39mno_grad():\n\u001b[0;32m--> 820\u001b[0m     param_applied \u001b[38;5;241m=\u001b[39m \u001b[43mfn\u001b[49m\u001b[43m(\u001b[49m\u001b[43mparam\u001b[49m\u001b[43m)\u001b[49m\n\u001b[1;32m    821\u001b[0m should_use_set_data \u001b[38;5;241m=\u001b[39m compute_should_use_set_data(param, param_applied)\n\u001b[1;32m    822\u001b[0m \u001b[38;5;28;01mif\u001b[39;00m should_use_set_data:\n",
      "File \u001b[0;32m/opt/conda/lib/python3.10/site-packages/torch/nn/modules/module.py:1143\u001b[0m, in \u001b[0;36mModule.to.<locals>.convert\u001b[0;34m(t)\u001b[0m\n\u001b[1;32m   1140\u001b[0m \u001b[38;5;28;01mif\u001b[39;00m convert_to_format \u001b[38;5;129;01mis\u001b[39;00m \u001b[38;5;129;01mnot\u001b[39;00m \u001b[38;5;28;01mNone\u001b[39;00m \u001b[38;5;129;01mand\u001b[39;00m t\u001b[38;5;241m.\u001b[39mdim() \u001b[38;5;129;01min\u001b[39;00m (\u001b[38;5;241m4\u001b[39m, \u001b[38;5;241m5\u001b[39m):\n\u001b[1;32m   1141\u001b[0m     \u001b[38;5;28;01mreturn\u001b[39;00m t\u001b[38;5;241m.\u001b[39mto(device, dtype \u001b[38;5;28;01mif\u001b[39;00m t\u001b[38;5;241m.\u001b[39mis_floating_point() \u001b[38;5;129;01mor\u001b[39;00m t\u001b[38;5;241m.\u001b[39mis_complex() \u001b[38;5;28;01melse\u001b[39;00m \u001b[38;5;28;01mNone\u001b[39;00m,\n\u001b[1;32m   1142\u001b[0m                 non_blocking, memory_format\u001b[38;5;241m=\u001b[39mconvert_to_format)\n\u001b[0;32m-> 1143\u001b[0m \u001b[38;5;28;01mreturn\u001b[39;00m \u001b[43mt\u001b[49m\u001b[38;5;241;43m.\u001b[39;49m\u001b[43mto\u001b[49m\u001b[43m(\u001b[49m\u001b[43mdevice\u001b[49m\u001b[43m,\u001b[49m\u001b[43m \u001b[49m\u001b[43mdtype\u001b[49m\u001b[43m \u001b[49m\u001b[38;5;28;43;01mif\u001b[39;49;00m\u001b[43m \u001b[49m\u001b[43mt\u001b[49m\u001b[38;5;241;43m.\u001b[39;49m\u001b[43mis_floating_point\u001b[49m\u001b[43m(\u001b[49m\u001b[43m)\u001b[49m\u001b[43m \u001b[49m\u001b[38;5;129;43;01mor\u001b[39;49;00m\u001b[43m \u001b[49m\u001b[43mt\u001b[49m\u001b[38;5;241;43m.\u001b[39;49m\u001b[43mis_complex\u001b[49m\u001b[43m(\u001b[49m\u001b[43m)\u001b[49m\u001b[43m \u001b[49m\u001b[38;5;28;43;01melse\u001b[39;49;00m\u001b[43m \u001b[49m\u001b[38;5;28;43;01mNone\u001b[39;49;00m\u001b[43m,\u001b[49m\u001b[43m \u001b[49m\u001b[43mnon_blocking\u001b[49m\u001b[43m)\u001b[49m\n",
      "\u001b[0;31mOutOfMemoryError\u001b[0m: CUDA out of memory. Tried to allocate 160.00 MiB (GPU 0; 3.82 GiB total capacity; 180.05 MiB already allocated; 18.12 MiB free; 182.00 MiB reserved in total by PyTorch) If reserved memory is >> allocated memory try setting max_split_size_mb to avoid fragmentation.  See documentation for Memory Management and PYTORCH_CUDA_ALLOC_CONF"
     ]
    }
   ],
   "source": [
    "%%time\n",
    "\n",
    "# Train\n",
    "train = Trainer(\n",
    "                model=model,\n",
    "                args=train_arguments,\n",
    "                train_dataset=train_dataset,\n",
    "                eval_dataset=test_dataset,\n",
    "                compute_metrics=compute_metrics)\n",
    "\n",
    "train.train()"
   ]
  },
  {
   "cell_type": "code",
   "execution_count": null,
   "id": "0b941925",
   "metadata": {},
   "outputs": [],
   "source": [
    "train.evaluate(eval_dataset=test_dataset)"
   ]
  },
  {
   "attachments": {
    "image.png": {
     "image/png": "[encoded data removed]"
    }
   },
   "cell_type": "markdown",
   "id": "50061ce9",
   "metadata": {},
   "source": [
    "![image.png](attachment:image.png)"
   ]
  },
  {
   "attachments": {
    "image.png": {
     "image/png": "[encoded data removed]"
    }
   },
   "cell_type": "markdown",
   "id": "a120b195",
   "metadata": {},
   "source": [
    "### `2차`\n",
    "\n",
    "![image.png](attachment:image.png)"
   ]
  },
  {
   "cell_type": "code",
   "execution_count": null,
   "id": "7cf8ad17",
   "metadata": {},
   "outputs": [],
   "source": [
    "import re\n",
    "\n",
    "class predictModel() :\n",
    "\n",
    "    def __init__(self, model_path):\n",
    "        # load model\n",
    "        self.model_path = model_path\n",
    "        self.model = torch.load(model_path)\n",
    "        # set device\n",
    "        self.device = torch.device('cpu')\n",
    "        # load tokenizer\n",
    "        model_name = \"beomi/KcELECTRA-base-v2022\"\n",
    "        self.tokenizer = AutoTokenizer.from_pretrained(model_name)\n",
    "\n",
    "    def predict_sentence(self, sent):\n",
    "        self.model.eval()\n",
    "#         sent = self.clean_sentence(sent)\n",
    "        # tokenizing\n",
    "        tokenized_sent = self.tokenizer(\n",
    "            sent,\n",
    "            return_tensors='pt',\n",
    "            truncation=True,\n",
    "            add_special_tokens=True,\n",
    "            max_length=128\n",
    "        )\n",
    "        tokenized_sent.to(self.device)\n",
    "\n",
    "        # prediction\n",
    "        with torch.no_grad():\n",
    "            outputs = self.model(\n",
    "                input_ids=tokenized_sent['input_ids'],\n",
    "                attention_mask=tokenized_sent['attention_mask'],\n",
    "                token_type_ids=tokenized_sent['token_type_ids']\n",
    "            )\n",
    "\n",
    "        # result\n",
    "        if len(sent) < 10 :\n",
    "            # 10자 이하는 연락처 로 탐지하지 않음\n",
    "            return 0\n",
    "\n",
    "        result = outputs[0].detach().cpu().argmax(-1)\n",
    "        #     print(outputs[0].detach().cpu())\n",
    "\n",
    "        return int(result)\n",
    "        # 0 : 정상, 1 : ( 무성의 or 연락처 탐지 )"
   ]
  },
  {
   "cell_type": "code",
   "execution_count": null,
   "id": "2c8d61c4",
   "metadata": {},
   "outputs": [],
   "source": [
    "from datetime import datetime\n",
    "\n",
    "today = str(datetime.today())[:10]\n",
    "path = f\"{today}_mu_model.pt\"\n",
    "\n",
    "# save model \n",
    "torch.save(model, path)"
   ]
  },
  {
   "cell_type": "code",
   "execution_count": null,
   "id": "ff3ef6ec",
   "metadata": {},
   "outputs": [],
   "source": [
    "from datetime import datetime\n",
    "\n",
    "today = str(datetime.today())[:10]\n",
    "path = f\"{today}_mu_model.pt\"\n",
    "\n",
    "# save model \n",
    "torch.save(model, path)"
   ]
  },
  {
   "cell_type": "code",
   "execution_count": null,
   "id": "d8c30131",
   "metadata": {},
   "outputs": [],
   "source": [
    "# load model\n",
    "mod = torch.load(f\"{today}_mu_model.pt\")\n",
    "mod.eval()"
   ]
  },
  {
   "cell_type": "code",
   "execution_count": null,
   "id": "b2d19707",
   "metadata": {},
   "outputs": [],
   "source": []
  },
  {
   "cell_type": "code",
   "execution_count": null,
   "id": "f2955158",
   "metadata": {},
   "outputs": [],
   "source": []
  },
  {
   "cell_type": "markdown",
   "id": "afc7cb26",
   "metadata": {},
   "source": [
    "------"
   ]
  },
  {
   "cell_type": "code",
   "execution_count": null,
   "id": "fc3e01bf",
   "metadata": {},
   "outputs": [],
   "source": [
    "import re\n",
    "\n",
    "class Preprocessing():\n",
    "\n",
    "    def __init__(self, sent):\n",
    "        self.sent = sent\n",
    "\n",
    "    def clean_sentence(self):\n",
    "        try:  # 무성의\n",
    "            self.sent = re.sub('[^\\w\\s]', ' ', self.sent).strip()\n",
    "            self.sent = re.sub('[.,?!ᆢ~]', ', ', self.sent)\n",
    "            self.sent = re.sub('[ㄱ-ㅎ|ㅏ-ㅣ]', 'ㅋ', self.sent)\n",
    "            self.sent = re.sub('니다', '니다. ', self.sent)\n",
    "            self.sent = re.sub('어요', '어요. ', self.sent)\n",
    "            self.sent = re.sub('\\n', ' ', self.sent).strip()\n",
    "\n",
    "        except:\n",
    "            print('clean_sentence method fail')\n",
    "            pass\n",
    "\n",
    "        return self.sent\n",
    "\n",
    "    def f_clean_sentence(self):\n",
    "        try:\n",
    "            self.sent = re.sub('[^\\w\\s]', ' ', self.sent).strip()\n",
    "            self.sent = re.sub('[.,?!ᆢ~]', ', ', self.sent)\n",
    "            self.sent = self.return_text(self.sent)\n",
    "\n",
    "        except:\n",
    "            print('f_clean_sentence method fail')\n",
    "            pass\n",
    "        return self.sent\n",
    "\n",
    "    def sub_num(self, sent):\n",
    "        hannum_list = ['일', '이', '삼', '사', '오', '육', '륙', '칠', '팔', '구', '십', '영']\n",
    "        sent = re.sub(r'[0-9]', ' ', sent)\n",
    "\n",
    "        for i in hannum_list:\n",
    "            sent = re.sub(rf'{i}', '  ', sent)\n",
    "        return sent\n",
    "\n",
    "    def return_target_list(self, pattern, sent):\n",
    "        word_list = []\n",
    "        for i in pattern.finditer(sent):\n",
    "            target_word = sent[i.start(): i.end()]\n",
    "            word_list.append(target_word)\n",
    "        return word_list\n",
    "\n",
    "    def return_text(self, sent):\n",
    "\n",
    "        nam = '[남]+'\n",
    "        nyeo = '[녀]+'\n",
    "        yeo = '[여]+'\n",
    "        son = '[아들]+'\n",
    "        ddal = '[딸]+'\n",
    "        num = '[\\s]*(\\d){1,2}[\\s]*'\n",
    "        han_num = '[일이삼사오육륙칠팔구십]+'\n",
    "\n",
    "        person_list = [nam, son, nyeo, yeo, ddal]\n",
    "        num_list = [num, han_num]\n",
    "\n",
    "        for person_pattern in person_list:\n",
    "            for num_pattern in num_list:\n",
    "                pattern_list = [person_pattern + num_pattern, num_pattern + person_pattern]\n",
    "                target_list = []\n",
    "\n",
    "                for pattern in pattern_list:\n",
    "                    add_pattern = re.compile(pattern)\n",
    "                    m = add_pattern.findall(sent)\n",
    "                    if m != []:\n",
    "                        target_words = self.return_target_list(add_pattern, sent)\n",
    "                        target_list += target_words\n",
    "                    else:\n",
    "                        pass\n",
    "\n",
    "                for i in target_list:\n",
    "                    sent = sent.replace(i, self.sub_num(i))\n",
    "        return sent"
   ]
  },
  {
   "cell_type": "code",
   "execution_count": null,
   "id": "1aad4330",
   "metadata": {},
   "outputs": [],
   "source": [
    "import torch.nn.functional as F\n",
    "\n",
    "class predictModel():\n",
    "\n",
    "    def __init__(self, model_path):\n",
    "        # load model\n",
    "        self.model_path = model_path\n",
    "        self.model = torch.load(model_path)\n",
    "        # set device\n",
    "        self.device = torch.device('cpu')\n",
    "        # load tokenizer\n",
    "        model_name = 'beomi/KcELECTRA-base-2022'\n",
    "        self.tokenizer = AutoTokenizer.from_pretrained(model_name)\n",
    "\n",
    "    def predict_sentence(self, sent):\n",
    "        self.model.eval()\n",
    "        Pr = Preprocessing(sent)\n",
    "\n",
    "        if 'call' in str(self.model_path):\n",
    "            sent = Pr.f_clean_sentence()\n",
    "\n",
    "        else:\n",
    "            sent = Pr.clean_sentence()\n",
    "\n",
    "        # tokenizing\n",
    "        tokenized_sent = self.tokenizer(\n",
    "            sent,\n",
    "            return_tensors='pt',\n",
    "            truncation=True,\n",
    "            add_special_tokens=True,\n",
    "            max_length=512\n",
    "        )\n",
    "        tokenized_sent.to(self.device)\n",
    "\n",
    "        # prediction\n",
    "        with torch.no_grad():\n",
    "            outputs = self.model(\n",
    "                input_ids=tokenized_sent['input_ids'],\n",
    "                attention_mask=tokenized_sent['attention_mask'],\n",
    "                token_type_ids=tokenized_sent['token_type_ids']\n",
    "            )\n",
    "\n",
    "        # result\n",
    "        per = int(str(np.array(F.softmax(outputs[0][0], dim=0).detach().cpu())[1] * 100).split('.')[0])\n",
    "        result = outputs[0].detach().cpu().argmax(-1)\n",
    "\n",
    "        if int(per) >= 99:\n",
    "            return 1\n",
    "        \n",
    "        else:\n",
    "            return 0"
   ]
  },
  {
   "cell_type": "code",
   "execution_count": null,
   "id": "69e5dd89",
   "metadata": {},
   "outputs": [],
   "source": [
    "import torch.nn.functional as F\n",
    "\n",
    "class predictModel():\n",
    "\n",
    "    def __init__(self, model_path):\n",
    "        # load model\n",
    "        self.model_path = model_path\n",
    "        self.model = torch.load(model_path)\n",
    "        # set device\n",
    "        self.device = torch.device('cpu')\n",
    "        # load tokenizer\n",
    "        model_name = 'beomi/KcELECTRA-base-2022'\n",
    "        self.tokenizer = AutoTokenizer.from_pretrained(model_name)\n",
    "\n",
    "    def predict_sentence(self, sent):\n",
    "        self.model.eval()\n",
    "        Pr = Preprocessing(sent)\n",
    "\n",
    "        if 'call' in str(self.model_path):\n",
    "            sent = Pr.f_clean_sentence()\n",
    "\n",
    "        else:\n",
    "            sent = Pr.clean_sentence()\n",
    "\n",
    "        # tokenizing\n",
    "        tokenized_sent = self.tokenizer(\n",
    "            sent,\n",
    "            return_tensors='pt',\n",
    "            truncation=True,\n",
    "            add_special_tokens=True,\n",
    "            max_length=512\n",
    "        )\n",
    "        tokenized_sent.to(self.device)\n",
    "\n",
    "        # prediction\n",
    "        with torch.no_grad():\n",
    "            outputs = self.model(\n",
    "                input_ids=tokenized_sent['input_ids'],\n",
    "                attention_mask=tokenized_sent['attention_mask'],\n",
    "                token_type_ids=tokenized_sent['token_type_ids']\n",
    "            )\n",
    "\n",
    "        # result\n",
    "        per = int(str(np.array(F.softmax(outputs[0][0], dim=0).detach().cpu())[1] * 100).split('.')[0])\n",
    "\n",
    "        if len(sent) <= 5:\n",
    "            # 10자 이하는 연락처 로 탐지하지 않음\n",
    "            return 1, int(per)\n",
    "\n",
    "        result = outputs[0].detach().cpu().argmax(-1)\n",
    "\n",
    "        if int(result) == 0:\n",
    "            return int(result), int(per)\n",
    "\n",
    "        return int(result), int(per)"
   ]
  },
  {
   "cell_type": "code",
   "execution_count": null,
   "id": "54e02180",
   "metadata": {},
   "outputs": [],
   "source": []
  },
  {
   "cell_type": "code",
   "execution_count": null,
   "id": "b98a95b8",
   "metadata": {},
   "outputs": [],
   "source": []
  },
  {
   "cell_type": "code",
   "execution_count": null,
   "id": "32b7933e",
   "metadata": {},
   "outputs": [],
   "source": []
  },
  {
   "cell_type": "markdown",
   "id": "2eb9c393",
   "metadata": {},
   "source": [
    "## 실 데이터 load"
   ]
  },
  {
   "cell_type": "code",
   "execution_count": null,
   "id": "acefcec2",
   "metadata": {},
   "outputs": [],
   "source": [
    "import pymysql\n",
    "\n",
    "# db 연동\n",
    "conn = pymysql.connect(\n",
    "    user='my_srv',              # 유저 이름\n",
    "    passwd='wkrldi@duqhdi12',   # 패스워드\n",
    "    host='125.141.223.156',     # 호스트\n",
    "    db='m_yeoboya',             # 데이터베이스\n",
    "    charset='utf8',             # 인코딩\n",
    "    port=33141                  # 포트 번호(''없이 사용)\n",
    ")\n",
    "\n",
    "cursor = conn.cursor(pymysql.cursors.DictCursor)\n",
    "sql1 = \"SELECT mem_no, mate_conts, family_conts, list_prt_yn FROM m_yeoboya.member_mate WHERE list_prt_yn='y'\" \n",
    "cursor.execute(sql1)\n",
    "result1 = cursor.fetchall()\n",
    "\n",
    "\n",
    "cursor.close()\n",
    "all_mate_df = pd.DataFrame(result1) \n",
    "\n",
    "# \n",
    "display(all_mate_df)"
   ]
  },
  {
   "cell_type": "code",
   "execution_count": null,
   "id": "8e2c204a",
   "metadata": {},
   "outputs": [],
   "source": [
    "result = all_mate_df.copy()\n",
    "result = result[['mem_no','mate_conts', 'family_conts']]\n",
    "result"
   ]
  },
  {
   "cell_type": "code",
   "execution_count": null,
   "id": "d412d561",
   "metadata": {},
   "outputs": [],
   "source": [
    "mu_model = predictModel(model_path = f\"{today}_mu_model.pt\")"
   ]
  },
  {
   "cell_type": "code",
   "execution_count": null,
   "id": "4308c62f",
   "metadata": {},
   "outputs": [],
   "source": [
    "from tqdm import tqdm"
   ]
  },
  {
   "cell_type": "code",
   "execution_count": null,
   "id": "b2dbf60b",
   "metadata": {},
   "outputs": [],
   "source": [
    "for row in tqdm(range(result.shape[0])):\n",
    "    text = result.loc[row, 'mate_conts']\n",
    "    f_text = result.loc[row,'family_conts']\n",
    "    result.loc[row,'mu_result'], result.loc[row,'mu_per'] = mu_model.predict_sentence(str(text))\n",
    "    result.loc[row,'f_mu_result'], result.loc[row,'f_mu_per'] = mu_model.predict_sentence(str(f_text))"
   ]
  },
  {
   "cell_type": "code",
   "execution_count": null,
   "id": "54db7118",
   "metadata": {},
   "outputs": [],
   "source": []
  },
  {
   "cell_type": "code",
   "execution_count": null,
   "id": "cbdd48cf",
   "metadata": {},
   "outputs": [],
   "source": []
  }
 ],
 "metadata": {
  "kernelspec": {
   "display_name": "Python 3 (ipykernel)",
   "language": "python",
   "name": "python3"
  },
  "language_info": {
   "codemirror_mode": {
    "name": "ipython",
    "version": 3
   },
   "file_extension": ".py",
   "mimetype": "text/x-python",
   "name": "python",
   "nbconvert_exporter": "python",
   "pygments_lexer": "ipython3",
   "version": "3.10.10"
  }
 },
 "nbformat": 4,
 "nbformat_minor": 5
}
