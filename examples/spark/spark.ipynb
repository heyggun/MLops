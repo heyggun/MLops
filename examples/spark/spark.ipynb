{
 "cells": [
  {
   "cell_type": "code",
   "execution_count": 1,
   "id": "6c8dfd40-3344-4492-9f20-64e0a3a79d91",
   "metadata": {},
   "outputs": [
    {
     "name": "stdout",
     "output_type": "stream",
     "text": [
      "3.14162972\n"
     ]
    }
   ],
   "source": [
    "import findspark\n",
    "findspark.init()\n",
    "\n",
    "import pyspark\n",
    "import random\n",
    "sc = pyspark.SparkContext(appName=\"Pi\")\n",
    "num_samples = 100000000\n",
    "def inside(p):     \n",
    "  x, y = random.random(), random.random()\n",
    "  return x*x + y*y < 1\n",
    "count = sc.parallelize(range(0, num_samples)).filter(inside).count()\n",
    "pi = 4 * count / num_samples\n",
    "print(pi)\n",
    "sc.stop()"
   ]
  },
  {
   "cell_type": "code",
   "execution_count": 2,
   "id": "233aabd1-4322-4270-82c0-ce50c07f0ab3",
   "metadata": {},
   "outputs": [],
   "source": [
    "from pyspark import SparkContext\n",
    "from pyspark.streaming import StreamingContext\n",
    "import pyspark"
   ]
  },
  {
   "cell_type": "code",
   "execution_count": 1,
   "id": "1cb17529-43c4-47d0-8dad-0b2c7752dca2",
   "metadata": {},
   "outputs": [],
   "source": [
    "import socket\n",
    "from pyspark import SparkConf\n",
    "from pyspark.sql import SparkSession\n",
    "\n",
    "import findspark\n",
    "findspark.init()\n",
    "host = socket.gethostbyname(socket.gethostname())\n",
    "\n",
    "\n",
    "# .config('spark.kubernetes.authenticate.driver.serviceAccountName', saName) \\\n",
    "# .config('spark.kubernetes.namespace', namespaceName) \\\n",
    "# .config('spark.driver.host', host) \\\n",
    "# .config('spark.driver.bindAddress', '0.0.0.0') \\\n",
    "# .config('spark.driver.extraClassPath', '/opt/spark/jars/*:/opt/spark/emr-lib/*') \\\n",
    "# .config('spark.driver.extraLibraryPath', '/opt/spark/emr-lib/native/') \\\n",
    "# .config('spark.executor.extraClassPath', '/opt/spark/emr-lib/*') \\\n",
    "# .config('spark.executor.extraLibraryPath', '/opt/spark/emr-lib/native/') \\\n",
    "# .config(\"spark.kubernetes.node.selector.alpha.eksctl.io/nodegroup-name\",nodeGroupName) \\\n",
    "# .config(\"spark.hive.metastore.client.factory.class\",\"com.amazonaws.glue.catalog.metastore.AWSGlueDataCatalogHiveClientFactory\") \\\n",
    "# .config(\"spark.hadoop.fs.s3a.impl\", \"org.apache.hadoop.fs.s3a.S3AFileSystem\") \\\n",
    "# .config(\"spark.hadoop.fs.s3.impl\", \"com.amazon.ws.emr.hadoop.fs.EmrFileSystem\") \\\n",
    "# .config(\"spark.hadoop.fs.s3n.impl\", \"com.amazon.ws.emr.hadoop.fs.EmrFileSystem\") \\\n",
    "# .config(\"spark.hadoop.fs.s3bfs.impl\", \"org.apache.hadoop.fs.s3.S3FileSystem\") \\\n",
    "# .config(\"spark.hadoop.fs.s3.buffer.dir\",\"/opt/mnt/s3\")\\\n",
    "# .enableHiveSupport() \\\n",
    " \n",
    "spark1 = SparkSession \\\n",
    "    .builder \\\n",
    "    .appName(\"jupyter-test\") \\\n",
    "    .master(\"k8s://https://kubernetes.default.svc:443\" ) \\\n",
    "    .config(\"spark.kubernetes.container.image\", \"apache/spark:3.4.1-scala2.12-java11-python3-r-ubuntu\") \\\n",
    "    .config(\"spark.executor.instances\",\"5\") \\\n",
    "    .config(\"spark.kubernetes.authenticate.driver.serviceAccountName\", \"default-editor\") \\\n",
    "    .config(\"spark.kubernetes.namespace\", \"kubeflow-user-example-com\") \\\n",
    "    .getOrCreate()"
   ]
  },
  {
   "cell_type": "code",
   "execution_count": 7,
   "id": "6722ebe1-04e4-4c2c-9be7-3dd2bb7c4826",
   "metadata": {},
   "outputs": [],
   "source": [
    "from numpy import array\n",
    "from pyspark.mllib.clustering import GaussianMixture, GaussianMixtureModel"
   ]
  },
  {
   "cell_type": "code",
   "execution_count": null,
   "id": "4895d220-05f0-45ce-ac76-bf145f8ffe76",
   "metadata": {},
   "outputs": [],
   "source": [
    "# Load and parse the data\n",
    "data = sc.textFile(\"data/mllib/gmm_data.txt\")\n",
    "parsedData = data.map(lambda line: array([float(x) for x in line.strip().split(' ')]))\n",
    "\n",
    "# Build the model (cluster the data)\n",
    "gmm = GaussianMixture.train(parsedData, 2)\n",
    "\n",
    "# Save and load model\n",
    "gmm.save(sc, \"target/org/apache/spark/PythonGaussianMixtureExample/GaussianMixtureModel\")\n",
    "sameModel = GaussianMixtureModel\\\n",
    "    .load(sc, \"target/org/apache/spark/PythonGaussianMixtureExample/GaussianMixtureModel\")\n",
    "\n",
    "# output parameters of model\n",
    "for i in range(2):\n",
    "    print(\"weight = \", gmm.weights[i], \"mu = \", gmm.gaussians[i].mu,\n",
    "          \"sigma = \", gmm.gaussians[i].sigma.toArray())"
   ]
  }
 ],
 "metadata": {
  "kernelspec": {
   "display_name": "Python 3 (ipykernel)",
   "language": "python",
   "name": "python3"
  },
  "language_info": {
   "codemirror_mode": {
    "name": "ipython",
    "version": 3
   },
   "file_extension": ".py",
   "mimetype": "text/x-python",
   "name": "python",
   "nbconvert_exporter": "python",
   "pygments_lexer": "ipython3",
   "version": "3.9.13"
  }
 },
 "nbformat": 4,
 "nbformat_minor": 5
}
