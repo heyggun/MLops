{
 "cells": [
  {
   "cell_type": "code",
   "execution_count": 14,
   "id": "cd62c4fe-19d7-4617-9a12-cdc00a424001",
   "metadata": {},
   "outputs": [],
   "source": [
    "from pyspark.sql import SparkSession\n",
    "from pyspark import SparkConf\n"
   ]
  },
  {
   "cell_type": "code",
   "execution_count": 15,
   "id": "559a66c2-c10c-466d-b268-7d1773d20ada",
   "metadata": {},
   "outputs": [],
   "source": [
    "spark = SparkSession.builder \\\n",
    "    .appName(\"MyApp\") \\\n",
    "    .config(\"spark.jars\", \"https://repo1.maven.org/maven2/mysql/mysql-connector-java/8.0.13/mysql-connector-java-8.0.13.jar, https://repo1.maven.org/maven2/com/datastax/spark/spark-cassandra-connector-assembly_2.12/3.4.0/spark-cassandra-connector-assembly_2.12-3.4.0.jar, https://repo1.maven.org/maven2/com/datastax/spark/spark-cassandra-connector_2.12/3.4.0/spark-cassandra-connector_2.12-3.4.0.jar\") \\\n",
    "    .config(\"spark.cassandra.connection.host\", \"cassandra.default.svc.cluster.local\") \\\n",
    "    .config(\"spark.cassandra.connection.port\", \"9042\") \\\n",
    "    .getOrCreate()"
   ]
  },
  {
   "cell_type": "code",
   "execution_count": 16,
   "id": "ff680bbb-9d83-4ab6-b507-0729b5ef4416",
   "metadata": {
    "scrolled": true
   },
   "outputs": [
    {
     "name": "stdout",
     "output_type": "stream",
     "text": [
      "+-------+-------+-------+----------+--------------+---------------+-------------+--------------+-------------+---------+------------+-------------+------------------+-------------+--------------+------------+--------------------+--------------------+--------------+--------------+-------------------+--------------------+----------------+---------+-----------------------------------+--------+-------------------+---------------+---------------------+-----------+-----------+----------+-------------+--------+-----------+----------+----------+---------------+----------------+----------------+---------+------------+---------+--------+-------------+------------+----------------+----------------+---------------+------------+--------------------+------------+------------+-----------+-------------------------------------+----------+----------+-----------+-----------+---------------+----------+----------+------------+------------+------------+---------------+------------+-----------+-----------+---------+--------+-----------+--------+-------+-------------+--------------------+--------------+---------+-------------------+-------------+-----------+-------------+--------+------------------+------------+-------------------+-------------------+\n",
      "| mem_no|mem_sex|mem_loc|mem_l_code|mem_birth_year|mem_birth_month|mem_birth_day|mem_birth_date|mem_birth_ddi|mate_slct|mate_slct_yn|mem_name_slct|mem_last_name_code|mem_last_name|mem_first_name|rprsn_mov_yn|           rprsn_mov|       rprsn_mov_img|rprsn_photo_no|rprsn_photo_yn|   rprsn_photo_date|         rprsn_photo|rprsn_chrgr_name|photo_cnt|                         mate_conts|mate_job|    mate_job_detail|mate_ann_salary|mate_parents_property|mate_height|mate_weight|mate_blood|mate_religion|mate_car|mate_career|mate_style|mate_charc|     mate_hobby|mate_offspring_m|mate_offspring_f|htown_loc|htown_l_code|match_amt|wed_plan|fashion_style|divorce_rslt|brothers_sisters|possess_property|language_skills|study_abroad|          favor_food|parents_slct|divorce_year|child_raise|                         family_conts|smoke_slct|drink_slct|health_slct|animal_slct|childbirth_slct|z_wish_age|z_wish_loc|z_wish_loc_1|z_wish_loc_2|z_wish_loc_3|z_wish_religion|z_wish_conts|reject_date|reject_info|join_slct|mem_slct|login_media|send_cnt|upd_cnt|conts_upd_cnt|family_conts_upd_cnt|secret_item_yn|secret_yn|respect_person_cont|my_point_cont|list_prt_yn|my_hd_item_yn|my_hd_yn|chrgr_check_req_yn|check_reason|           ins_date|           upd_date|\n",
      "+-------+-------+-------+----------+--------------+---------------+-------------+--------------+-------------+---------+------------+-------------+------------------+-------------+--------------+------------+--------------------+--------------------+--------------+--------------+-------------------+--------------------+----------------+---------+-----------------------------------+--------+-------------------+---------------+---------------------+-----------+-----------+----------+-------------+--------+-----------+----------+----------+---------------+----------------+----------------+---------+------------+---------+--------+-------------+------------+----------------+----------------+---------------+------------+--------------------+------------+------------+-----------+-------------------------------------+----------+----------+-----------+-----------+---------------+----------+----------+------------+------------+------------+---------------+------------+-----------+-----------+---------+--------+-----------+--------+-------+-------------+--------------------+--------------+---------+-------------------+-------------+-----------+-------------+--------+------------------+------------+-------------------+-------------------+\n",
      "|      5|      m|      q|       qnz|          1977|              1|            0|          null|            9|        w|           y|            y|                37|           성|            훈|           n|                    |                    |             0|             n|               null|                    |                |        8|삼남매이며 형제간에우애하고 화목...|      24|             연구원|              8|                    0|        186|         78|         3|            5|       5|          4|         6|     3,4,6|        6,16,28|               0|               0|        b|         b22|         |       a|         4,9,|            |           3,3,3|               f|               |           y|        28,29,50,64,|           b|            |           |  삼남매이며 형제간에우애하고 화목...|        a||        a||        b|b|           |               |          |          |           i|           z|           q|               |            |       null|           |        h|       b|          s|       0|    120|            6|                  11|             n|        n|                   |           90|          n|            n|       n|                 n|            |2015-07-22 16:31:35|2021-03-11 11:35:22|\n",
      "| 958237|      m|      b|       b26|          1966|              3|            0|          null|           10|        r|           y|            y|                15|           오|          동열|           y|958237_2019110920...|958237_2019110920...|       1814030|             y|2019-10-29 13:15:06|958237_2019102913...|                |        2|  음.마음.통하고.서로배려하고.진...|       7|         한전단가업|              5|                    0|        175|         83|         1|            0|       6|          2|         6|        4,|          4,16,|               1|               1|        l|         l08|         |       a|           9,|           1|           3,1,3|               e|               |           n|          6,7,28,29,|           d|        2009|          b|    현재는.혼자임.가족은.부모님.두...|     c|c03|       c|b|        c|b|           |               |          |          |            |            |            |               |            |       null|           |        b|        |          s|       0|      3|            0|                   0|             n|        n|                   |           50|          n|            n|       n|                 n|            |2019-10-29 13:19:38|2020-07-17 14:30:42|\n",
      "|1241232|      f|      b|       b08|          1961|             12|            0|          null|            5|        r|           y|            y|                 4|           박|          진선|           n|                    |                    |             0|             x|               null|                    |                |        3|   나는 낙천적입니다\\r\\n매사예많...|      22|           콩밭여인|             12|                    0|        158|         54|         1|            5|       2|          2|         1|        5,|   16,19,40,43,|               1|               1|        d|         d16|         |       a|           2,|           3|           2,3,3|               f|               |           n|        18,28,29,39,|           c|        2018|          z|    나는 건강합니다\\n나는 낙천적입...|          |        a||        d|a|           |              a|          |          |            |            |            |               |            |       null|           |        e|        |          s|       0|      2|            1|                   0|             n|        n|                   |           60|          n|            n|       n|                 n|            |2020-07-07 12:01:05|2020-07-17 14:30:42|\n",
      "|      2|      m|      e|       e05|          1971|              1|            0|          null|            3|        r|           y|            y|                 9|           유|          종철|           n|                    |                    |             0|             n|               null|                    |                |        0|   화려한 돌씽입니다. 맘 맞는분 ...|      16|             해커스|              6|                    0|        178|         78|         1|            5|       3|          3|         9|     3,4,7|        4,12,16|               1|               1|        l|         l16|         |       a|         4,7,|           1|           2,0,1|               c|               |           n|             6,7,30,|           a|        2015|          a|    부모님 두분 아직은 건강하시고 ...|     b|b05|       b|c|        c|b|           |               |          |         e|           i|           b|           e|              5|            |       null|           |        a|       b|          s|       0|     27|            1|                   2|             n|        n|                   |           50|          n|            n|       n|                 n|            |2015-07-22 16:37:25|2021-03-10 18:28:31|\n",
      "| 564756|      m|      i|       i18|          1984|              8|            0|          null|            4|        r|           y|            y|                 8|           강|          효섭|           n|                    |                    |       1113507|             y|2018-12-23 00:48:03|564756_2018122300...|                |        3|  반갑습니다.미래를 꿈꿔 봅니다....|      12|           국내영업|              6|                    0|        172|         70|         3|            5|       2|          3|         8|   3,4,11,| 1,16,17,19,42,|               0|               0|        b|         b13|         |       a|         1,5,|           1|           1,0,1|               d|               |           n| 3,4,27,54,64,67,98,|           a|        2016|          z|     나를 있게 해주신 감사한분들. ...|     c|c01|       c|c|        c|b|           |               |          |          |            |            |            |               |            |       null|           |        a|        |          s|       0|      8|            3|                   2|             n|        n|                   |           85|          n|            n|       n|                 n|            |2018-10-14 15:07:32|2020-07-17 14:30:42|\n",
      "| 985380|      m|      b|       b13|          1949|              7|            0|          null|            5|        r|           y|            y|                 2|           김|          광현|           n|                    |                    |       1892111|             y|2019-11-30 16:52:57|985380_2019113016...|                |        1|   천생연분\\r\\n아침에 조기축구하...|      58|             여행사|              2|                    0|        165|         61|         4|            5|       3|          2|         1|    1,4,6,|         6,7,8,|               1|               2|        g|         g05|         |       a|        9,10,|           1|           3,3,6|               e|               |           n|        4,6,7,21,25,|           d|        2018|          z|       1남 2녀로 결혼 다했습니다.\\...|        a||       b|a|        d|a|           |               |          |          |            |            |            |               |            |       null|           |        a|        |          s|       0|      2|            0|                   0|             n|        n|                   |          100|          n|            n|       n|                 n|            |2019-11-30 16:49:50|2020-07-17 14:30:42|\n",
      "|1032426|      m|      h|       h08|          1975|              5|            0|          null|            7|        w|           y|            y|                 5|           정|          영철|           n|                    |                    |             0|             n|               null|                    |                |        0|   좋은 분을 만나뵙고 싶네요  장...|      53|         타워크레인|              5|                    0|        175|         70|         1|            0|       0|          6|         1|    4,6,7,|  2,8,13,14,16,|               0|               0|        m|         m00|         |      1y|         4,9,|            |           3,2,4|               b|               |           n|        28,29,30,31,|           a|            |           |    즐겁고 행복한 가정입니다 항상 ...|     c|c01|       c|c|        b|a|           |               |          |          |            |            |            |               |            |       null|           |        e|        |          s|       0|      4|            0|                   0|             n|        n|                   |           70|          n|            n|       n|                 n|            |2020-01-09 16:48:45|2020-07-17 14:30:42|\n",
      "|1015416|      f|      i|       i01|          1973|              6|            0|          null|            5|        w|           y|            y|                 3|           이|          하나|           n|                    |                    |             0|             n|               null|                    |                |        0|                                   |      66|               ㅎㅎ|              2|                    0|        150|         40|         1|            1|       1|          0|         1|    1,2,3,|             1,|               0|               0|        f|         f02|         |       a|         1,2,|            |           0,1,1|               b|               |           n|                  1,|           a|            |           |ㅎㅎㅎㅎㅎㅎ호ㅗㅗㅗㅗㅗㅗㅗㅗㅎㅎ...|          |        a||         a||           |              a|          |          |            |            |            |               |            |       null|           |        e|        |          s|       0|      1|            0|                   0|             n|        n|                   |           40|          n|            n|       n|                 n|            |2019-12-25 04:50:18|2019-12-25 04:50:18|\n",
      "| 990204|      f|      k|       k10|          1982|              1|            0|          null|            2|        r|           y|            y|                 4|           박|          소민|           n|                    |                    |       1892084|             y|2019-11-30 16:31:19|990204_2019113016...|                |        0|  안녕하세요 ,저는 이해심이 깊구...|       9|             서비스|             12|                    0|        163|         50|         2|            0|       9|          0|         2|    1,5,7,|         12,13,|               0|               0|        o|         o02|         |      3m|       10,11,|           1|           1,1,1|               b|               |           n|              67,68,|           c|        2010|           |    안녕하세요  아버지는 병으로 돌...|          |        a||         a||           |              c|          |          |            |            |            |               |            |       null|           |        f|        |          s|       0|      2|            0|                   0|             n|        n|                   |           97|          n|            n|       n|                 n|            |2019-11-30 16:29:16|2020-07-17 14:30:42|\n",
      "|     57|      m|      e|       e05|          1977|              1|            0|          null|            9|        r|           y|            y|                33|           주|          철만|           n|                    |                    |             0|             x|               null|                    |          주철만|        0|  반갑습니다. 새로운 인연 기다립...|      48|             중개인|              7|                    0|        171|         67|         3|            5|       3|          3|         1|     3,5,7|16,17,18,28,32,|               2|               0|        l|         l06|         |       a|         1,4,|           1|           2,1,1|               e|               |           n|28,47,53,56,69,75...|           c|        2015|          a|   그냥 화목하게 지내고 있는중입니...|     c|c01|       b|b|        d|c|           |               |          |          |           i|           g|           e|              5|            |       null|           |        o|       b|          x|       0|     40|            0|                   1|             n|        n|                   |           90|          n|            n|       n|                 n|            |2015-07-27 09:15:32|2020-07-17 14:30:42|\n",
      "|    211|      m|      e|       e05|          1966|              2|            0|          null|           10|        r|           y|            y|                 4|           박|            진|           n|                    |                    |             0|             n|               null|                    |            박진|        0|    여보야는 2015년에 런칭했으며...|      16|    여보야 대표이사|              5|                    0|        180|         75|         3|            3|       4|          4|         6|    4,5,8,|    3,16,19,32,|               4|               2|        e|         e04|         |      6m|         6,9,|           1|           6,0,3|               d|               |           y|           2,4,6,10,|           d|        2013|          a|    나혼자입니다.  언제부터인지는 ...|     b|b05|       b|c|        d|b|           |               |          |i,k,e,n,l,|            |            |            |               |            |       null|           |        i|       b|          s|       0|    100|            6|                   9|             n|        n|                   |          100|          n|            n|       n|                 n|            |2015-08-09 13:48:39|2020-07-17 14:30:42|\n",
      "|     21|      m|      e|       e04|          1977|              7|            0|          null|            9|        w|           y|            y|                34|           하|          민철|           n|                    |                    |             0|             n|               null|                    |                |        0|               🎑🖋️🌡️📯🔕📯🈴?...|      16|             웹개발|              7|                    0|        177|         85|         3|            5|       2|          3|         1|       1,6|  4,13,21,25,27|               0|               0|        e|         e03|         |       a|         4,9,|            |           3,0,3|               e|               |           n|      1,2,3,4,5,6,7,|           a|            |           |   부모님은 몇해전 귀농하셔서 시골...|     b|b05|       b|b|         a||           |               |          |         e|            |            |            |               |            |       null|           |        o|       b|          s|       0|     17|            2|                   1|             n|        n|                   |           89|          n|            y|       y|                 n|            |2015-07-23 10:55:26|2020-07-23 09:57:00|\n",
      "|1144713|      m|      i|       i18|          1981|              9|            0|          null|            1|        w|           y|            y|                27|           배|          수원|           n|                    |                    |       2261054|             y|2020-04-07 15:35:12|1144713_202004071...|                |        2|     광고 보고 가입했어요.\\r\\n일...|      23| 시스템 서포트 시공|              8|                    0|        166|         68|         2|            0|       6|         12|         1|    1,5,6,| 4,13,27,32,41,|               0|               0|        i|         i18|         |      1y|         4,7,|            |           1,2,3|               e|               |           n|27,30,67,69,87,93...|           c|            |           |   어머니와 출가한 누나둘이 있습니...|     c|c04|       c|d|        c|a|           |               |          |          |            |            |            |               |            |       null|           |        k|        |          s|       0|      6|            4|                   1|             n|        n|                   |           70|          n|            n|       n|                 n|            |2020-04-07 15:30:25|2020-07-17 14:30:42|\n",
      "|1106702|      f|      b|       b24|          1959|              9|            0|          null|            3|        r|           y|            y|                20|           송|          지혜|           n|                    |                    |       2208250|             y|2020-03-21 15:04:02|1106702_202003211...|                |        3|요리하기를즐기고 여행을 좋아하는...|      44|           프리랜서|              2|                    0|        164|         55|         2|            0|       3|          2|         8|    5,6,7,|      16,17,21,|               1|               1|        p|         p00|         |       a|         2,4,|           1|           3,3,6|               e|               |           n|              29,75,|           d|        2015|          z|     아들.딸 모두 결혼햇습니다\\n각...|          |       b|a|        d|b|           |              d|          |          |            |            |            |               |            |       null|           |        e|        |          s|       0|      5|            2|                   0|             n|        n|                   |           80|          n|            n|       n|                 n|            |2020-03-09 13:00:00|2020-07-17 14:30:42|\n",
      "|1027100|      m|      n|       n13|          1978|              1|            0|          null|           10|        w|           y|            y|                 3|           이|          도원|           n|                    |                    |             0|             x|               null|                    |                |        0|일을사랑하며 혼자서 살고있습니다...|      53|     엘리베어터기사|              3|                    0|        181|         71|         3|            1|       6|          2|         4|        1,|         27,32,|               0|               0|        n|         n13|         |       a|           7,|            |           2,0,2|               d|               |           n|                 67,|           d|            |           |    성실히 일하고 혼자서 조용히 살...|     c|c02|       b|b|        c|b|           |               |          |          |            |            |            |               |            |       null|           |        b|        |          s|       0|      2|            0|                   0|             n|        n|                   |           70|          n|            n|       n|                 n|            |2020-01-04 22:31:02|2020-07-17 14:30:42|\n",
      "| 780525|      f|      k|       k07|          1998|             10|            0|          null|            6|        w|           y|            y|                 3|           이|            봄|           n|                    |                    |             0|             x|               null|                    |                |        0|  서울살고 헤어디자이너 일 하고 ...|      54|       헤어디자이너|              9|                    0|        175|         70|         2|            1|       1|          3|         1|        2,|             2,|               0|               0|        i|         i04|         |      1y|           1,|            |           0,3,2|               f|               |           y|                 50,|           a|            |           |        엄마, 아빠, 동생, 언니, 저...|          |       c|c|        c|a|           |              c|          |          |            |            |            |               |            |       null|           |        a|        |          s|       0|      2|            0|                   0|             n|        n|                   |           68|          n|            n|       n|                 n|            |2020-01-03 22:26:36|2020-07-17 14:30:42|\n",
      "| 416392|      m|      a|       a05|          1958|             12|            0|          null|            2|        r|           n|            y|                29|           허|          태영|           n|                    |                    |       1311176|             y|2019-03-20 06:45:32|416392_2019032005...|                |        1|  현재 영어 강사로 틈틈이 활동하...|      23|영어강사 스크린골프|              5|                    0|        170|         55|         2|            0|       5|          4|         8|        5,|      30,39,41,|               2|               0|        a|         a13|         |       a|          11,|           1|           1,1,2|               e|               |           n|                 61,|           d|        2009|          z|     부모님 두분 다 작고하셨으며, ...|     c|c02|       b|c|        d|c|           |               |          |          |            |            |            |               |            |       null|           |        e|        |          s|       0|      6|            2|                   1|             n|        n|                   |           85|          n|            n|       n|                 n|            |2018-05-10 00:16:12|2020-07-17 14:30:42|\n",
      "| 960282|      m|      g|       g01|          1977|             11|            0|          null|            9|        w|           y|            y|                 2|           김|          한욱|           n|                    |                    |       1816746|             y|2019-10-30 18:39:16|960282_2019103018...|                |        2| 대전에 살고 자영업하고있습니다....|      23|         전자상거래|              6|                    0|        175|         69|         2|            0|       3|          8|         8|    4,6,9,| 8,12,16,18,21,|               0|               0|        g|         g05|         |       a|         2,4,|            |           2,1,2|               e|               |           n|   7,28,76,85,90,91,|           c|            |           |   우선은 서로 알게된후에 자연스럽...|     b|b03|       c|b|        d|b|           |               |          |          |            |            |            |               |            |       null|           |        e|        |          s|       0|      2|            0|                   0|             n|        n|                   |           90|          n|            n|       n|                 n|            |2019-10-30 18:43:58|2020-07-17 14:30:42|\n",
      "|1144033|      m|      i|       i23|          1995|              1|            0|          null|            3|        w|           y|            y|                 3|           이|          진석|           n|                    |                    |       2259148|             y|2020-04-06 21:36:07|1144033_202004062...|                |        1|  방갑습니다.만나 좋습니다. 다들...|      44|             옷의류|             12|                    0|        174|         70|         4|            0|       9|          2|         1|        1,|            10,|               0|               0|        i|         i07|         |      3m|         6,7,|            |           3,1,2|               b|               |           n|                7,8,|           b|            |           |     가족구성 7명 입니다. 방갑습니...|        a||        a||         a||           |               |          |          |            |            |            |               |            |       null|           |        l|        |          s|       0|      2|            1|                   0|             n|        n|                   |           50|          n|            n|       n|                 n|            |2020-04-06 21:31:25|2020-07-17 14:30:42|\n",
      "|1082836|      m|      i|       i04|          1979|              2|            0|          null|           11|        r|           y|            y|                11|           장|          우석|           n|                    |                    |             0|             x|               null|                    |                |        0|  안녕하세요! 세속적인 기준으로 ...|      21|             사무관|             10|                    0|        181|         80|         1|            0|       6|          4|         6|    4,6,9,|       27,28,0,|               0|               2|        f|         f07|         |       a|         1,2,|           1|           1,1,1|               j|               |           y|              27,28,|           a|        2019|          b|     전배우자와 사이에 딸이 2명(전...|     b|b03|       c|c|        d|b|           |               |          |          |            |            |            |               |            |       null|           |        e|        |          s|       0|      6|            1|                   0|             n|        n|                   |           90|          n|            n|       n|                 n|            |2020-02-20 16:49:20|2020-07-17 14:30:42|\n",
      "+-------+-------+-------+----------+--------------+---------------+-------------+--------------+-------------+---------+------------+-------------+------------------+-------------+--------------+------------+--------------------+--------------------+--------------+--------------+-------------------+--------------------+----------------+---------+-----------------------------------+--------+-------------------+---------------+---------------------+-----------+-----------+----------+-------------+--------+-----------+----------+----------+---------------+----------------+----------------+---------+------------+---------+--------+-------------+------------+----------------+----------------+---------------+------------+--------------------+------------+------------+-----------+-------------------------------------+----------+----------+-----------+-----------+---------------+----------+----------+------------+------------+------------+---------------+------------+-----------+-----------+---------+--------+-----------+--------+-------+-------------+--------------------+--------------+---------+-------------------+-------------+-----------+-------------+--------+------------------+------------+-------------------+-------------------+\n",
      "only showing top 20 rows\n",
      "\n"
     ]
    }
   ],
   "source": [
    "df = spark.read \\\n",
    "    .format(\"jdbc\") \\\n",
    "    .option(\"driver\", \"com.mysql.cj.jdbc.Driver\") \\\n",
    "    .load()\n",
    "df.show()"
   ]
  },
  {
   "cell_type": "code",
   "execution_count": 17,
   "id": "ba2010e4-f3e0-4ea4-9031-28f0bed4f95a",
   "metadata": {
    "scrolled": true
   },
   "outputs": [
    {
     "data": {
      "text/plain": [
       "145975"
      ]
     },
     "execution_count": 17,
     "metadata": {},
     "output_type": "execute_result"
    }
   ],
   "source": [
    "df.count()"
   ]
  },
  {
   "cell_type": "code",
   "execution_count": 18,
   "id": "99c6a0b0-f24b-46d3-8bd9-d0d9821278ca",
   "metadata": {
    "scrolled": true
   },
   "outputs": [
    {
     "name": "stdout",
     "output_type": "stream",
     "text": [
      "root\n",
      " |-- mem_no: integer (nullable = true)\n",
      " |-- mem_sex: string (nullable = true)\n",
      " |-- mem_loc: string (nullable = true)\n",
      " |-- mem_l_code: string (nullable = true)\n",
      " |-- mem_birth_year: integer (nullable = true)\n",
      " |-- mem_birth_month: integer (nullable = true)\n",
      " |-- mem_birth_day: integer (nullable = true)\n",
      " |-- mem_birth_date: date (nullable = true)\n",
      " |-- mem_birth_ddi: integer (nullable = true)\n",
      " |-- mate_slct: string (nullable = true)\n",
      " |-- mate_slct_yn: string (nullable = true)\n",
      " |-- mem_name_slct: string (nullable = true)\n",
      " |-- mem_last_name_code: integer (nullable = true)\n",
      " |-- mem_last_name: string (nullable = true)\n",
      " |-- mem_first_name: string (nullable = true)\n",
      " |-- rprsn_mov_yn: string (nullable = true)\n",
      " |-- rprsn_mov: string (nullable = true)\n",
      " |-- rprsn_mov_img: string (nullable = true)\n",
      " |-- rprsn_photo_no: integer (nullable = true)\n",
      " |-- rprsn_photo_yn: string (nullable = true)\n",
      " |-- rprsn_photo_date: timestamp (nullable = true)\n",
      " |-- rprsn_photo: string (nullable = true)\n",
      " |-- rprsn_chrgr_name: string (nullable = true)\n",
      " |-- photo_cnt: integer (nullable = true)\n",
      " |-- mate_conts: string (nullable = true)\n",
      " |-- mate_job: string (nullable = true)\n",
      " |-- mate_job_detail: string (nullable = true)\n",
      " |-- mate_ann_salary: string (nullable = true)\n",
      " |-- mate_parents_property: integer (nullable = true)\n",
      " |-- mate_height: integer (nullable = true)\n",
      " |-- mate_weight: integer (nullable = true)\n",
      " |-- mate_blood: string (nullable = true)\n",
      " |-- mate_religion: string (nullable = true)\n",
      " |-- mate_car: string (nullable = true)\n",
      " |-- mate_career: string (nullable = true)\n",
      " |-- mate_style: string (nullable = true)\n",
      " |-- mate_charc: string (nullable = true)\n",
      " |-- mate_hobby: string (nullable = true)\n",
      " |-- mate_offspring_m: integer (nullable = true)\n",
      " |-- mate_offspring_f: integer (nullable = true)\n",
      " |-- htown_loc: string (nullable = true)\n",
      " |-- htown_l_code: string (nullable = true)\n",
      " |-- match_amt: string (nullable = true)\n",
      " |-- wed_plan: string (nullable = true)\n",
      " |-- fashion_style: string (nullable = true)\n",
      " |-- divorce_rslt: string (nullable = true)\n",
      " |-- brothers_sisters: string (nullable = true)\n",
      " |-- possess_property: string (nullable = true)\n",
      " |-- language_skills: string (nullable = true)\n",
      " |-- study_abroad: string (nullable = true)\n",
      " |-- favor_food: string (nullable = true)\n",
      " |-- parents_slct: string (nullable = true)\n",
      " |-- divorce_year: string (nullable = true)\n",
      " |-- child_raise: string (nullable = true)\n",
      " |-- family_conts: string (nullable = true)\n",
      " |-- smoke_slct: string (nullable = true)\n",
      " |-- drink_slct: string (nullable = true)\n",
      " |-- health_slct: string (nullable = true)\n",
      " |-- animal_slct: string (nullable = true)\n",
      " |-- childbirth_slct: string (nullable = true)\n",
      " |-- z_wish_age: string (nullable = true)\n",
      " |-- z_wish_loc: string (nullable = true)\n",
      " |-- z_wish_loc_1: string (nullable = true)\n",
      " |-- z_wish_loc_2: string (nullable = true)\n",
      " |-- z_wish_loc_3: string (nullable = true)\n",
      " |-- z_wish_religion: string (nullable = true)\n",
      " |-- z_wish_conts: string (nullable = true)\n",
      " |-- reject_date: timestamp (nullable = true)\n",
      " |-- reject_info: string (nullable = true)\n",
      " |-- join_slct: string (nullable = true)\n",
      " |-- mem_slct: string (nullable = true)\n",
      " |-- login_media: string (nullable = true)\n",
      " |-- send_cnt: integer (nullable = true)\n",
      " |-- upd_cnt: integer (nullable = true)\n",
      " |-- conts_upd_cnt: integer (nullable = true)\n",
      " |-- family_conts_upd_cnt: integer (nullable = true)\n",
      " |-- secret_item_yn: string (nullable = true)\n",
      " |-- secret_yn: string (nullable = true)\n",
      " |-- respect_person_cont: string (nullable = true)\n",
      " |-- my_point_cont: string (nullable = true)\n",
      " |-- list_prt_yn: string (nullable = true)\n",
      " |-- my_hd_item_yn: string (nullable = true)\n",
      " |-- my_hd_yn: string (nullable = true)\n",
      " |-- chrgr_check_req_yn: string (nullable = true)\n",
      " |-- check_reason: string (nullable = true)\n",
      " |-- ins_date: timestamp (nullable = true)\n",
      " |-- upd_date: timestamp (nullable = true)\n",
      "\n"
     ]
    }
   ],
   "source": [
    "df.printSchema()"
   ]
  },
  {
   "cell_type": "code",
   "execution_count": 19,
   "id": "c32ff401-b013-41f6-903e-3706722dd4c7",
   "metadata": {
    "scrolled": true
   },
   "outputs": [],
   "source": [
    "# t = t.replace('(nullable = true)', '')\n",
    "# t = t.replace('|--' ,'')\n",
    "# t = t.replace('\\n', '')\n",
    "# t = t.strip()\n",
    "# t = t.replace('   ', ',')\n",
    "# t = t.replace(': ', ':')\n",
    "# t = t.replace(':integer', ' int')\n",
    "# t = t.replace(':string', ' text')\n",
    "# t = t.replace(':timestamp', ' timestamp')\n",
    "# t = t.replace(':date', ' date')\n",
    "# t"
   ]
  },
  {
   "cell_type": "code",
   "execution_count": 24,
   "id": "c49da16b-53d2-4b58-9e76-dd97e44d0fe9",
   "metadata": {},
   "outputs": [
    {
     "name": "stdout",
     "output_type": "stream",
     "text": [
      "+-------+-------+-----------------------------------+-------------------------------------+-------------+--------------------+-------------------+-------------------+\n",
      "| mem_no|mem_sex|                         mate_conts|                         family_conts|conts_upd_cnt|family_conts_upd_cnt|           upd_date|           ins_date|\n",
      "+-------+-------+-----------------------------------+-------------------------------------+-------------+--------------------+-------------------+-------------------+\n",
      "|      5|      m|삼남매이며 형제간에우애하고 화목...|  삼남매이며 형제간에우애하고 화목...|            6|                  11|2021-03-11 11:35:22|2015-07-22 16:31:35|\n",
      "| 958237|      m|  음.마음.통하고.서로배려하고.진...|    현재는.혼자임.가족은.부모님.두...|            0|                   0|2020-07-17 14:30:42|2019-10-29 13:19:38|\n",
      "|1241232|      f|   나는 낙천적입니다\\r\\n매사예많...|    나는 건강합니다\\n나는 낙천적입...|            1|                   0|2020-07-17 14:30:42|2020-07-07 12:01:05|\n",
      "|      2|      m|   화려한 돌씽입니다. 맘 맞는분 ...|    부모님 두분 아직은 건강하시고 ...|            1|                   2|2021-03-10 18:28:31|2015-07-22 16:37:25|\n",
      "| 564756|      m|  반갑습니다.미래를 꿈꿔 봅니다....|     나를 있게 해주신 감사한분들. ...|            3|                   2|2020-07-17 14:30:42|2018-10-14 15:07:32|\n",
      "| 985380|      m|   천생연분\\r\\n아침에 조기축구하...|       1남 2녀로 결혼 다했습니다.\\...|            0|                   0|2020-07-17 14:30:42|2019-11-30 16:49:50|\n",
      "|1032426|      m|   좋은 분을 만나뵙고 싶네요  장...|    즐겁고 행복한 가정입니다 항상 ...|            0|                   0|2020-07-17 14:30:42|2020-01-09 16:48:45|\n",
      "|1015416|      f|                                   |ㅎㅎㅎㅎㅎㅎ호ㅗㅗㅗㅗㅗㅗㅗㅗㅎㅎ...|            0|                   0|2019-12-25 04:50:18|2019-12-25 04:50:18|\n",
      "| 990204|      f|  안녕하세요 ,저는 이해심이 깊구...|    안녕하세요  아버지는 병으로 돌...|            0|                   0|2020-07-17 14:30:42|2019-11-30 16:29:16|\n",
      "|     57|      m|  반갑습니다. 새로운 인연 기다립...|   그냥 화목하게 지내고 있는중입니...|            0|                   1|2020-07-17 14:30:42|2015-07-27 09:15:32|\n",
      "|    211|      m|    여보야는 2015년에 런칭했으며...|    나혼자입니다.  언제부터인지는 ...|            6|                   9|2020-07-17 14:30:42|2015-08-09 13:48:39|\n",
      "|     21|      m|               🎑🖋️🌡️📯🔕📯🈴?...|   부모님은 몇해전 귀농하셔서 시골...|            2|                   1|2020-07-23 09:57:00|2015-07-23 10:55:26|\n",
      "|1144713|      m|     광고 보고 가입했어요.\\r\\n일...|   어머니와 출가한 누나둘이 있습니...|            4|                   1|2020-07-17 14:30:42|2020-04-07 15:30:25|\n",
      "|1106702|      f|요리하기를즐기고 여행을 좋아하는...|     아들.딸 모두 결혼햇습니다\\n각...|            2|                   0|2020-07-17 14:30:42|2020-03-09 13:00:00|\n",
      "|1027100|      m|일을사랑하며 혼자서 살고있습니다...|    성실히 일하고 혼자서 조용히 살...|            0|                   0|2020-07-17 14:30:42|2020-01-04 22:31:02|\n",
      "| 780525|      f|  서울살고 헤어디자이너 일 하고 ...|        엄마, 아빠, 동생, 언니, 저...|            0|                   0|2020-07-17 14:30:42|2020-01-03 22:26:36|\n",
      "| 416392|      m|  현재 영어 강사로 틈틈이 활동하...|     부모님 두분 다 작고하셨으며, ...|            2|                   1|2020-07-17 14:30:42|2018-05-10 00:16:12|\n",
      "| 960282|      m| 대전에 살고 자영업하고있습니다....|   우선은 서로 알게된후에 자연스럽...|            0|                   0|2020-07-17 14:30:42|2019-10-30 18:43:58|\n",
      "|1144033|      m|  방갑습니다.만나 좋습니다. 다들...|     가족구성 7명 입니다. 방갑습니...|            1|                   0|2020-07-17 14:30:42|2020-04-06 21:31:25|\n",
      "|1082836|      m|  안녕하세요! 세속적인 기준으로 ...|     전배우자와 사이에 딸이 2명(전...|            1|                   0|2020-07-17 14:30:42|2020-02-20 16:49:20|\n",
      "+-------+-------+-----------------------------------+-------------------------------------+-------------+--------------------+-------------------+-------------------+\n",
      "only showing top 20 rows\n",
      "\n"
     ]
    }
   ],
   "source": [
    "selected_columns = [\"mem_no\",\"mem_sex\",\"mate_conts\",\"family_conts\",\"conts_upd_cnt\",\"family_conts_upd_cnt\",\"upd_date\",\"ins_date\"]\n",
    "selected_df = df.select(*selected_columns)\n",
    "selected_df.show()"
   ]
  },
  {
   "cell_type": "code",
   "execution_count": null,
   "id": "3ebe319a-b9ce-48fc-800d-4e086bf6fd2c",
   "metadata": {},
   "outputs": [],
   "source": [
    "selected_df.write \\\n",
    "    .format(\"org.apache.spark.sql.cassandra\") \\\n",
    "    .mode(\"append\") \\\n",
    "    .options(table=\"usertable\", keyspace=\"pn\") \\\n",
    "    .save()\n",
    "\n",
    "# 작업 완료 후 SparkSession 종료\n",
    "spark.stop()"
   ]
  },
  {
   "cell_type": "code",
   "execution_count": null,
   "id": "8138e16b-fdd3-48d0-a1ad-2a8d78a9a939",
   "metadata": {},
   "outputs": [],
   "source": [
    "# df.write \\\n",
    "#     .format(\"org.apache.spark.sql.cassandra\") \\\n",
    "#     .mode(\"overwrite\") \\\n",
    "#     .option(\"confirm.truncate\",\"true\") \\\n",
    "#     .options(table=\"user\", keyspace=\"test\") \\\n",
    "#     .save()\n",
    "\n",
    "# # 작업 완료 후 SparkSession 종료\n",
    "# spark.stop()"
   ]
  },
  {
   "cell_type": "code",
   "execution_count": null,
   "id": "05ddb6d4-aa73-4ca7-83cd-e06b991ff143",
   "metadata": {},
   "outputs": [],
   "source": []
  },
  {
   "cell_type": "code",
   "execution_count": null,
   "id": "0bd62c63-46a2-4a82-bb41-83967f6d9bda",
   "metadata": {},
   "outputs": [],
   "source": []
  },
  {
   "cell_type": "code",
   "execution_count": null,
   "id": "ce60867f-eefc-4b26-891a-c4ef9bf2593d",
   "metadata": {},
   "outputs": [],
   "source": []
  },
  {
   "cell_type": "code",
   "execution_count": null,
   "id": "0c1f709a-0997-4be2-906e-11824d89771d",
   "metadata": {},
   "outputs": [],
   "source": []
  }
 ],
 "metadata": {
  "kernelspec": {
   "display_name": "Python 3 (ipykernel)",
   "language": "python",
   "name": "python3"
  },
  "language_info": {
   "codemirror_mode": {
    "name": "ipython",
    "version": 3
   },
   "file_extension": ".py",
   "mimetype": "text/x-python",
   "name": "python",
   "nbconvert_exporter": "python",
   "pygments_lexer": "ipython3",
   "version": "3.9.13"
  }
 },
 "nbformat": 4,
 "nbformat_minor": 5
}
