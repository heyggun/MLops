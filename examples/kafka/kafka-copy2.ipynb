{
 "cells": [
  {
   "cell_type": "code",
   "execution_count": 1,
   "id": "3e2a64c0-7562-4a8a-b417-6b25dcbde914",
   "metadata": {},
   "outputs": [
    {
     "name": "stdout",
     "output_type": "stream",
     "text": [
      "0.026424646377563477\n"
     ]
    }
   ],
   "source": [
    "from kafka import KafkaProducer, KafkaConsumer\n",
    "from json import dumps, loads\n",
    "import time\n",
    "import random\n",
    "import time\n",
    "from datetime import datetime\n",
    "\n",
    "producer = KafkaProducer(\n",
    "    acks=0, \n",
    "    compression_type=None,\n",
    "    bootstrap_servers=\"kafka-service.default.svc.cluster.local:9092\",\n",
    "    value_serializer=lambda x: dumps(x).encode(\"utf-8\"),\n",
    ")\n",
    "\n",
    "device = [\"MAC\", \"PC\", \"WINDOW\", \"LINUX\", \"XBOX\"]\n",
    "\n",
    "# random.choice(list)\n",
    "now = time.time()\n",
    "for i in range(20):\n",
    "    producer.send(\n",
    "        \"pn_classification_test\", \n",
    "        {\n",
    "            \"test-key\":[\n",
    "                {\n",
    "                    \"from\": \"KAFAKA-2\",\n",
    "                    \"test-data-title\": \"We can We will\",\n",
    "                    #\"test-data-device\": device[random.randrange(0, len(device)-1],\n",
    "                    \"test-data-device\": random.choice(device),\n",
    "                    \"index\": int(i),\n",
    "                    \"time\": datetime.now().strftime('%Y-%m-%d %H:%M:%S')\n",
    "                }\n",
    "            ]\n",
    "        }\n",
    "    )\n",
    "    producer.flush()\n",
    "print(time.time() - now)"
   ]
  }
 ],
 "metadata": {
  "kernelspec": {
   "display_name": "Python 3 (ipykernel)",
   "language": "python",
   "name": "python3"
  },
  "language_info": {
   "codemirror_mode": {
    "name": "ipython",
    "version": 3
   },
   "file_extension": ".py",
   "mimetype": "text/x-python",
   "name": "python",
   "nbconvert_exporter": "python",
   "pygments_lexer": "ipython3",
   "version": "3.10.10"
  }
 },
 "nbformat": 4,
 "nbformat_minor": 5
}
