{
 "cells": [
  {
   "cell_type": "code",
   "execution_count": 16,
   "id": "37725e20-b7c8-4365-a051-c39b18915040",
   "metadata": {},
   "outputs": [],
   "source": [
    "from kafka import KafkaProducer, KafkaConsumer\n",
    "from json import dumps, loads\n",
    "import time\n",
    "import json\n",
    "import random\n",
    "import time\n",
    "from datetime import datetime\n",
    "\n",
    "import base64"
   ]
  },
  {
   "cell_type": "code",
   "execution_count": 14,
   "id": "0cf79090-6fd7-4934-a358-bb18a78730f0",
   "metadata": {},
   "outputs": [
    {
     "name": "stdout",
     "output_type": "stream",
     "text": [
      "0.02503800392150879\n"
     ]
    }
   ],
   "source": [
    "producer = KafkaProducer(\n",
    "    acks=0, \n",
    "    compression_type=None,\n",
    "    bootstrap_servers=\"kafka-service.default.svc.cluster.local:9092\",\n",
    "    value_serializer=lambda x: dumps(x).encode(\"utf-8\"),\n",
    ")\n",
    "\n",
    "device = [\"MAC\", \"PC\", \"WINDOW\", \"LINUX\", \"XBOX\"]\n",
    "\n",
    "# random.choice(list)\n",
    "now = time.time()\n",
    "for i in range(10):\n",
    "    producer.send(\n",
    "        \"pn_classification\", \n",
    "        value = json.dumps({\n",
    "            \"from\": \"KAFAKA-1\",\n",
    "            \"test-data-title\": \"We can We will\",\n",
    "            #\"test-data-device\": device[random.randrange(0, len(device)-1],\n",
    "            \"test-data-device\": random.choice(device),\n",
    "            \"index\": int(i),\n",
    "            \"time\": datetime.now().strftime('%Y-%m-%d %H:%M:%S')\n",
    "        })\n",
    "    )\n",
    "    producer.flush()\n",
    "print(time.time() - now)"
   ]
  },
  {
   "cell_type": "code",
   "execution_count": 7,
   "id": "7db561a2-1aae-43d7-b158-0e466b426eff",
   "metadata": {},
   "outputs": [
    {
     "name": "stdout",
     "output_type": "stream",
     "text": [
      "ConsumerRecord(topic='pn_classification', partition=0, offset=0, timestamp=1691024284923, timestamp_type=0, key=None, value=b'key_value_test', headers=[], checksum=None, serialized_key_size=-1, serialized_value_size=14, serialized_header_size=-1)\n"
     ]
    }
   ],
   "source": [
    "from kafka import KafkaProducer, KafkaConsumer\n",
    "consumer = KafkaConsumer(\n",
    "    \"pn_classification\",\n",
    "    bootstrap_servers=[\"kafka-service.default.svc.cluster.local:9092\"],\n",
    "    auto_offset_reset=\"earliest\",\n",
    "    enable_auto_commit=True,\n",
    "    #value_deserializer=lambda x: dumps(x).encode(\"utf-8\"),\n",
    "    consumer_timeout_ms=1000,\n",
    ")\n",
    "for ms in consumer:\n",
    "    print(ms)"
   ]
  },
  {
   "cell_type": "code",
   "execution_count": 3,
   "id": "8e69f214-d083-436a-a28f-3a1d354d39b8",
   "metadata": {},
   "outputs": [
    {
     "name": "stdout",
     "output_type": "stream",
     "text": [
      "test\n"
     ]
    }
   ],
   "source": [
    "print(\"test\")"
   ]
  }
 ],
 "metadata": {
  "kernelspec": {
   "display_name": "Python 3 (ipykernel)",
   "language": "python",
   "name": "python3"
  },
  "language_info": {
   "codemirror_mode": {
    "name": "ipython",
    "version": 3
   },
   "file_extension": ".py",
   "mimetype": "text/x-python",
   "name": "python",
   "nbconvert_exporter": "python",
   "pygments_lexer": "ipython3",
   "version": "3.10.10"
  }
 },
 "nbformat": 4,
 "nbformat_minor": 5
}
